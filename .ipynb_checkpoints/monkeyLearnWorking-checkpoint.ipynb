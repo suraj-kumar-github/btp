{
 "cells": [
  {
   "cell_type": "code",
   "execution_count": null,
   "metadata": {},
   "outputs": [],
   "source": [
    "#working file"
   ]
  },
  {
   "cell_type": "code",
   "execution_count": 3,
   "metadata": {},
   "outputs": [
    {
     "name": "stdout",
     "output_type": "stream",
     "text": [
      "[{'text': ' Venezuela? Whos the president? This would be an unusual question to ask in most countries, but in Venezuela many want to know exactly that after opposition leader Juan Guaidó declared himself acting president on 23 January 2019. The move was a direct challenge to the power of President Maduro, who had been sworn in to a second six-year term in office just two weeks previously. Not surprisingly, President Maduro did not take ', 'external_id': None, 'error': False, 'extractions': [{'tag_name': 'country', 'extracted_text': 'Venezuela', 'parsed_value': 'Venezuela', 'offset_span': [0, 8]}, {'tag_name': 'date', 'extracted_text': '23', 'parsed_value': '23', 'offset_span': [212, 213]}, {'tag_name': 'month', 'extracted_text': 'January', 'parsed_value': 'January', 'offset_span': [215, 221]}, {'tag_name': 'year/duration', 'extracted_text': '2019', 'parsed_value': '2019', 'offset_span': [223, 226]}]}]\n"
     ]
    },
    {
     "ename": "NameError",
     "evalue": "name 'respone' is not defined",
     "output_type": "error",
     "traceback": [
      "\u001b[1;31m---------------------------------------------------------------------------\u001b[0m",
      "\u001b[1;31mNameError\u001b[0m                                 Traceback (most recent call last)",
      "\u001b[1;32m<ipython-input-3-76cd2eb9d97e>\u001b[0m in \u001b[0;36m<module>\u001b[1;34m\u001b[0m\n\u001b[0;32m     10\u001b[0m \u001b[0mresponse\u001b[0m \u001b[1;33m=\u001b[0m \u001b[0mml\u001b[0m\u001b[1;33m.\u001b[0m\u001b[0mextractors\u001b[0m\u001b[1;33m.\u001b[0m\u001b[0mextract\u001b[0m\u001b[1;33m(\u001b[0m\u001b[0mmodel_id\u001b[0m\u001b[1;33m,\u001b[0m \u001b[0mdata\u001b[0m\u001b[1;33m=\u001b[0m\u001b[0ml1\u001b[0m\u001b[1;33m)\u001b[0m\u001b[1;33m\u001b[0m\u001b[1;33m\u001b[0m\u001b[0m\n\u001b[0;32m     11\u001b[0m \u001b[0mprint\u001b[0m\u001b[1;33m(\u001b[0m\u001b[0mresponse\u001b[0m\u001b[1;33m.\u001b[0m\u001b[0mbody\u001b[0m\u001b[1;33m)\u001b[0m\u001b[1;33m\u001b[0m\u001b[1;33m\u001b[0m\u001b[0m\n\u001b[1;32m---> 12\u001b[1;33m \u001b[0mjdata\u001b[0m \u001b[1;33m=\u001b[0m \u001b[0mrespone\u001b[0m\u001b[1;33m.\u001b[0m\u001b[0mbody\u001b[0m\u001b[1;33m\u001b[0m\u001b[1;33m\u001b[0m\u001b[0m\n\u001b[0m",
      "\u001b[1;31mNameError\u001b[0m: name 'respone' is not defined"
     ]
    }
   ],
   "source": [
    "from monkeylearn import MonkeyLearn\n",
    "\n",
    "model_id= 'ex_GXtuxy4R'\n",
    "\n",
    "MonkeyLearnAPIKey= '09c96df13fe78cfbf8ae9b56a824cf8106640d14'\n",
    "l1=[' Venezuela? Whos the president? This would be an unusual question to ask in most countries, but in Venezuela many want to know exactly that after opposition leader Juan Guaidó declared himself acting president on 23 January 2019. The move was a direct challenge to the power of President Maduro, who had been sworn in to a second six-year term in office just two weeks previously. Not surprisingly, President Maduro did not take ']\n",
    "\n",
    "ml = MonkeyLearn(MonkeyLearnAPIKey)\n",
    "data = ['first text', {'text': 'the meeting is at 10 AM', 'external_id': 'ANY_ID'}, '']\n",
    "response = ml.extractors.extract(model_id, data=l1)\n",
    "print(response.body)\n",
    "\n"
   ]
  },
  {
   "cell_type": "code",
   "execution_count": 4,
   "metadata": {},
   "outputs": [],
   "source": [
    "jdata = response.body"
   ]
  },
  {
   "cell_type": "code",
   "execution_count": 5,
   "metadata": {},
   "outputs": [
    {
     "data": {
      "text/plain": [
       "[{'text': ' Venezuela? Whos the president? This would be an unusual question to ask in most countries, but in Venezuela many want to know exactly that after opposition leader Juan Guaidó declared himself acting president on 23 January 2019. The move was a direct challenge to the power of President Maduro, who had been sworn in to a second six-year term in office just two weeks previously. Not surprisingly, President Maduro did not take ',\n",
       "  'external_id': None,\n",
       "  'error': False,\n",
       "  'extractions': [{'tag_name': 'country',\n",
       "    'extracted_text': 'Venezuela',\n",
       "    'parsed_value': 'Venezuela',\n",
       "    'offset_span': [0, 8]},\n",
       "   {'tag_name': 'date',\n",
       "    'extracted_text': '23',\n",
       "    'parsed_value': '23',\n",
       "    'offset_span': [212, 213]},\n",
       "   {'tag_name': 'month',\n",
       "    'extracted_text': 'January',\n",
       "    'parsed_value': 'January',\n",
       "    'offset_span': [215, 221]},\n",
       "   {'tag_name': 'year/duration',\n",
       "    'extracted_text': '2019',\n",
       "    'parsed_value': '2019',\n",
       "    'offset_span': [223, 226]}]}]"
      ]
     },
     "execution_count": 5,
     "metadata": {},
     "output_type": "execute_result"
    }
   ],
   "source": [
    "jdata"
   ]
  },
  {
   "cell_type": "code",
   "execution_count": null,
   "metadata": {},
   "outputs": [],
   "source": []
  }
 ],
 "metadata": {
  "kernelspec": {
   "display_name": "Python 3",
   "language": "python",
   "name": "python3"
  }
 },
 "nbformat": 4,
 "nbformat_minor": 2
}
