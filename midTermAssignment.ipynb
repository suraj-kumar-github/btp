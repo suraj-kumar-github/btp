{
 "cells": [
  {
   "cell_type": "code",
   "execution_count": 1,
   "metadata": {},
   "outputs": [
    {
     "data": {
      "text/plain": [
       "'\\n1(a)\\n1.get 40 bit key\\n2.ctbase64 to binary\\n3.strip first 24 bits from ct\\n4.concatenate 24.40 bits\\n5.xor every 64 bits\\n\\n1(b)\\n1.get 80 bit key\\n2.ctbase64 to binary\\n3. rc4 decipher it with 80bits key\\n\\n'"
      ]
     },
     "execution_count": 1,
     "metadata": {},
     "output_type": "execute_result"
    }
   ],
   "source": [
    "'''\n",
    "1(a)\n",
    "1.get 40 bit key\n",
    "2.ctbase64 to binary\n",
    "3.strip first 24 bits from ct\n",
    "4.concatenate 24.40 bits\n",
    "5.xor every 64 bits\n",
    "\n",
    "1(b)\n",
    "1.get that specific 80 bits key\n",
    "2.ctbase64 to binary\n",
    "3. rc4 decipher it with 80bits key\n",
    "\n",
    "'''"
   ]
  },
  {
   "cell_type": "code",
   "execution_count": 2,
   "metadata": {},
   "outputs": [
    {
     "name": "stdout",
     "output_type": "stream",
     "text": [
      "Initial string 7f65a580cb\n"
     ]
    },
    {
     "data": {
      "text/plain": [
       "(40, '0111111101100101101001011000000011001011')"
      ]
     },
     "execution_count": 2,
     "metadata": {},
     "output_type": "execute_result"
    }
   ],
   "source": [
    "#1. get 40 bit key\n",
    "import math\n",
    "import time\n",
    "\n",
    "\n",
    "hString = \"7f65a580cb\"\n",
    "print (\"Initial string\", hString) \n",
    "# Code to convert hex to binary \n",
    "res = \"{0:08b}\".format(int(hString, 16)) \n",
    "key40 = str(res)\n",
    "zero = '0'\n",
    "k40 = zero+key40\n",
    "len(k40), k40"
   ]
  },
  {
   "cell_type": "code",
   "execution_count": 4,
   "metadata": {},
   "outputs": [],
   "source": [
    "#2. 64bit CT to binary\n",
    "import base64\n",
    "qaCT='qj+QFfumYvjsQDOWWpeJL28JvwfVwwkPd3pEX2v4Cy258HILVldrzCAtEc/aYNivlsERzlbvIJe6QDAwezJkTz+ap1N7r+ya/VCpaS832ZZ3nafoJ1XdjkLx+XofH3Ujrk6W0l+C5rqyTSREEyduXzehYeyhT4HFK1oTLZA/sTet2j3qmI2s9MmfXozqoMAU8+A4X8ng1eauXDbhcjiEM7y8AtWw/JfMiFjaz1IhFOajkaDSmwvEvif4FHrrhoiCp2g37EH0EgmC3l4eS77I0vnGzzGHkF7JYmP3Ln7KmIY3S5aBXpIlyf0Nwee6xSERHzBfBbhHYBgPX+cybeyrQ6omCHWxOAW4XSPIUeqCGufpkugqjebWSf0GRFH1i39BQ9wcU4pdHIc0daKUkcTxV2rU2J3qc7Fk5Hem7ns7pTD6lTpJZ8tCz5PNxDRUpMEflTDuc54rf8Ul1Bkh3J3s9tgop9I2JJGx39+RfWwEjm+jTkKdVnAiTPqVSHDNz89LMRV3DJpwsaAtLZFw47G3kWyiFd3TvQSPf+HXrOArFm324iBnDyW+BBLCw2ED9MQy5A=='\n",
    "hCT = base64.b64decode(qaCT)\n",
    "bCT = \"\".join([\"{:08b}\".format(x) for x in hCT])\n",
    "#bCT, len(bCT)\n",
    "#len(qaCT), len(hCT), len(bCT)"
   ]
  },
  {
   "cell_type": "code",
   "execution_count": 5,
   "metadata": {},
   "outputs": [
    {
     "data": {
      "text/plain": [
       "24"
      ]
     },
     "execution_count": 5,
     "metadata": {},
     "output_type": "execute_result"
    }
   ],
   "source": [
    "#3. removing first 24 bits from bCT\n",
    "strippedCT = bCT[24:]#skipping 1st 24 bits\n",
    "first24CT = bCT[:24]#taking 1st 24 bits to concatenate\n",
    "len(first24CT)"
   ]
  },
  {
   "cell_type": "code",
   "execution_count": 11,
   "metadata": {},
   "outputs": [
    {
     "data": {
      "text/plain": [
       "(64, '1010101000111111100100000111111101100101101001011000000011001011')"
      ]
     },
     "execution_count": 11,
     "metadata": {},
     "output_type": "execute_result"
    }
   ],
   "source": [
    "#4. concatenate 24.40 to make 64 bit key\n",
    "keyA = first24CT+k40\n",
    "len(keyA), keyA"
   ]
  },
  {
   "cell_type": "code",
   "execution_count": 18,
   "metadata": {},
   "outputs": [],
   "source": [
    "ct = strippedCT[:64]\n",
    "#len(ct)\n"
   ]
  },
  {
   "cell_type": "code",
   "execution_count": 16,
   "metadata": {},
   "outputs": [],
   "source": [
    "def xor(a, b, n): \n",
    "    ans = \"\" \n",
    "      \n",
    "    # Loop to iterate over the \n",
    "    # Binary Strings \n",
    "    for i in range(n): \n",
    "          \n",
    "        # If the Character matches \n",
    "        if (a[i] == b[i]):  \n",
    "            ans += \"0\"\n",
    "        else:  \n",
    "            ans += \"1\"\n",
    "    return ans  "
   ]
  },
  {
   "cell_type": "code",
   "execution_count": 21,
   "metadata": {},
   "outputs": [
    {
     "name": "stdout",
     "output_type": "stream",
     "text": [
      "64 1011111111000100001101100001110110011101010010011100000011111000\n"
     ]
    }
   ],
   "source": [
    "if __name__ == \"__main__\": \n",
    "    a = ct\n",
    "    b = keyA\n",
    "    n = len(a) \n",
    "    c = xor(a, b, n) \n",
    "    print(len(c), c) "
   ]
  },
  {
   "cell_type": "code",
   "execution_count": 3,
   "metadata": {},
   "outputs": [],
   "source": [
    "hKey='7f65a580cb'"
   ]
  },
  {
   "cell_type": "code",
   "execution_count": 4,
   "metadata": {},
   "outputs": [],
   "source": [
    "#Q1(b)-------------------------------------------"
   ]
  },
  {
   "cell_type": "code",
   "execution_count": 5,
   "metadata": {},
   "outputs": [],
   "source": [
    "qbct='jrIYekOf4A+y/JGcPbkWSMIFoEWs/RHSmvQnAR0FC/VZWR6h0ovaZ2zQqdg6WJKxa/dYS1HUL9k8UMnzSugqRkIQZuCD3H4NMc5iJgFtKjyPlSIwybKX3UfBr10YnQjj2Eowa8gDSLxp9MpmPAZFaKRdVMCmvDW8bMZQFVta+6A4L6E6OOD+A/sZ0PyXZR/E2asptx+Eg7OGPsTzT1NeDJCFq6wEsU6EA4MySmaVRUQ+4XT9DQRiFhbQL+9Nw94YbqJkt4TaHU6YBG+yiG8snKz1WzXFfsjgZm8kzae0HIkrC8Bi8rFybv0NjCp2S1Q9u5H8mEAstMo5zcKvF/KCxpnD5MSqB+pWTmLq/gyvKi2WowP4gDa+vbxKD7uruvOqiUKrh414CJ7ABOY3HfPreSDXK0jb71OqpgjZahfPM1+7Tg=='"
   ]
  },
  {
   "cell_type": "code",
   "execution_count": 8,
   "metadata": {},
   "outputs": [
    {
     "data": {
      "text/plain": [
       "'1590111731'"
      ]
     },
     "execution_count": 8,
     "metadata": {},
     "output_type": "execute_result"
    }
   ],
   "source": [
    "s = int(time.time())\n",
    "k = str(s)\n",
    "k"
   ]
  },
  {
   "cell_type": "code",
   "execution_count": 25,
   "metadata": {},
   "outputs": [],
   "source": [
    "\n",
    "def asSen( str ): \n",
    "    strAscii = []  \n",
    "    for i in str: \n",
    "        strAscii.append( ord(i) )\n",
    "    return strAscii"
   ]
  },
  {
   "cell_type": "code",
   "execution_count": 26,
   "metadata": {},
   "outputs": [
    {
     "data": {
      "text/plain": [
       "[49, 53, 57, 48, 49, 48, 56, 49, 51, 48]"
      ]
     },
     "execution_count": 26,
     "metadata": {},
     "output_type": "execute_result"
    }
   ],
   "source": [
    "a = asSen(k)\n",
    "a"
   ]
  },
  {
   "cell_type": "code",
   "execution_count": 19,
   "metadata": {},
   "outputs": [
    {
     "data": {
      "text/plain": [
       "49"
      ]
     },
     "execution_count": 19,
     "metadata": {},
     "output_type": "execute_result"
    }
   ],
   "source": [
    "a[0]"
   ]
  },
  {
   "cell_type": "code",
   "execution_count": 22,
   "metadata": {},
   "outputs": [
    {
     "name": "stdout",
     "output_type": "stream",
     "text": [
      "Initial string 49\n",
      "Resultant string 0b110001\n"
     ]
    }
   ],
   "source": [
    "ini_string = str(a[0])\n",
    "scale = 10\n",
    "  \n",
    "# Code to convert decimal to binary \n",
    "res = bin(int(ini_string, scale)).zfill(8) \n",
    "  \n",
    "# Print the resultant string \n",
    "print (\"Resultant string\", str(res))  "
   ]
  },
  {
   "cell_type": "code",
   "execution_count": 41,
   "metadata": {},
   "outputs": [
    {
     "data": {
      "text/plain": [
       "'0b110001'"
      ]
     },
     "execution_count": 41,
     "metadata": {},
     "output_type": "execute_result"
    }
   ],
   "source": [
    "bin(a[0])"
   ]
  },
  {
   "cell_type": "code",
   "execution_count": 40,
   "metadata": {},
   "outputs": [
    {
     "name": "stdout",
     "output_type": "stream",
     "text": [
      "0b110001\n",
      "0b110101\n",
      "0b111001\n",
      "0b110000\n",
      "0b110001\n",
      "0b110000\n",
      "0b111000\n",
      "0b110001\n",
      "0b110011\n",
      "0b110000\n"
     ]
    },
    {
     "data": {
      "text/plain": [
       "['0b110000']"
      ]
     },
     "execution_count": 40,
     "metadata": {},
     "output_type": "execute_result"
    }
   ],
   "source": [
    "getkey80(a)"
   ]
  },
  {
   "cell_type": "code",
   "execution_count": null,
   "metadata": {},
   "outputs": [],
   "source": []
  }
 ],
 "metadata": {
  "kernelspec": {
   "display_name": "Python 3",
   "language": "python",
   "name": "python3"
  },
  "language_info": {
   "codemirror_mode": {
    "name": "ipython",
    "version": 3
   },
   "file_extension": ".py",
   "mimetype": "text/x-python",
   "name": "python",
   "nbconvert_exporter": "python",
   "pygments_lexer": "ipython3",
   "version": "3.7.4"
  }
 },
 "nbformat": 4,
 "nbformat_minor": 2
}
