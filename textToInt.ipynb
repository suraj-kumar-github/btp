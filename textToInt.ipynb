{
 "cells": [
  {
   "cell_type": "code",
   "execution_count": 1,
   "metadata": {},
   "outputs": [],
   "source": [
    "import hashlib"
   ]
  },
  {
   "cell_type": "code",
   "execution_count": 5,
   "metadata": {},
   "outputs": [
    {
     "data": {
      "text/plain": [
       "\"\\nhashlib.md5('heroine'.encode()).hexdigest()\\nhashlib.sha256('poftutcom'.encode()).hexdigest()\\nhashlib.sha512('poftutcom'.encode()).hexdigest()\\n\\n\\nto do hashing in group, you can use the following command\\nfor h in map(hashlib.sha256,['poftut.com'.encode(),'ismail'.encode(),'ali'.encode()]):\\n h.hexdigest()\\n\""
      ]
     },
     "execution_count": 5,
     "metadata": {},
     "output_type": "execute_result"
    }
   ],
   "source": [
    "'''\n",
    "hashlib.md5('heroine'.encode()).hexdigest()\n",
    "hashlib.sha256('poftutcom'.encode()).hexdigest()\n",
    "hashlib.sha512('poftutcom'.encode()).hexdigest()\n",
    "\n",
    "\n",
    "to do hashing in group, you can use the following command\n",
    "for h in map(hashlib.sha256,['poftut.com'.encode(),'ismail'.encode(),'ali'.encode()]):\n",
    " h.hexdigest()\n",
    "'''"
   ]
  },
  {
   "cell_type": "code",
   "execution_count": 2,
   "metadata": {},
   "outputs": [],
   "source": [
    "countries = ['India',\n",
    "'China',\n",
    "'Pakistan',\n",
    "'Bangladesh',\n",
    "'Afghanistan']\n",
    "\n",
    "events=['Civil unrest',\n",
    "'Attack',\n",
    "'Disease outbreak',\n",
    "'Flood']\n",
    "\n",
    "months=['January',\n",
    "'February',\n",
    "'March',\n",
    "'April',\n",
    "'May',\n",
    "'June',\n",
    "'July',\n",
    "'August',\n",
    "'September',\n",
    "'October',\n",
    "'November',\n",
    "'December']\n",
    "#Provinces of Pakistan\n",
    "provincePak= ['Sindh',\n",
    "'Punjab',\n",
    "'Balochistan',\n",
    "'Khyber Pakhtunkhwa',\n",
    "'Gilgit Baltistan',\n",
    "'Azad Kashmir',\n",
    "'Islamabad']\n",
    "#Provinces of China:\n",
    "\n",
    "provinceChina=['Qinghai',\n",
    "'Sichuan',\n",
    "'Gansu',\n",
    "'Heilongjiang',\n",
    "'Yunnan',\n",
    "'Hunan',\n",
    "'Shaanxi',\n",
    "'Hebei',\n",
    "'Jilin',\n",
    "'Hubei',\n",
    "'Hubei',\n",
    "'Guizhou',\n",
    "'Jiangxi',\n",
    "'Henan',\n",
    "'Shanxi',\n",
    "'Shandong',\n",
    "'Liaoning',\n",
    "'Anhui',\n",
    "'Fujian',\n",
    "'Jiangsu',\n",
    "'Zhejiang',\n",
    "'Taiwan',\n",
    "'Hainan',\n",
    "'Hong Kong',\n",
    "'Tibet',\n",
    "'Beijing']"
   ]
  },
  {
   "cell_type": "code",
   "execution_count": 9,
   "metadata": {},
   "outputs": [],
   "source": [
    "'''\n",
    "dCountries = {}\n",
    "dEvents = {}\n",
    "dProvincePak = {}\n",
    "dProvinceChina = {}\n",
    "dMonths = {}\n",
    "\n",
    "for a in countries:\n",
    "    dCountries[a] = hashlib.sha512(a.encode()).hexdigest()[0:10]\n",
    "    \n",
    "for a in months:\n",
    "    dMonths[a] = hashlib.sha512(a.encode()).hexdigest()[0:10]\n",
    "    \n",
    "for a in events:\n",
    "    dEvents[a] = hashlib.sha512(a.encode()).hexdigest()[0:10]\n",
    "    \n",
    "for a in provincePak:\n",
    "    dProvincePak[a] = hashlib.sha512(a.encode()).hexdigest()[0:10]\n",
    "    \n",
    "for a in provinceChina:\n",
    "    dProvinceChina[a] = hashlib.sha512(a.encode()).hexdigest()[0:10]\n",
    "'''"
   ]
  },
  {
   "cell_type": "code",
   "execution_count": 10,
   "metadata": {},
   "outputs": [
    {
     "data": {
      "text/plain": [
       "({'India': '8b9761bc3d',\n",
       "  'China': 'd6afe88ac5',\n",
       "  'Pakistan': 'bb94810147',\n",
       "  'Bangladesh': '8045a3b0c1',\n",
       "  'Afghanistan': 'b964800bbf'},\n",
       " {'Civil unrest': 'c4440c36bb',\n",
       "  'Attack': '28783d17a2',\n",
       "  'Disease outbreak': 'b62a137775',\n",
       "  'Flood': '757a8ea720'},\n",
       " {'Sindh': 'fc49d9fe4b',\n",
       "  'Punjab': '1b00e35d73',\n",
       "  'Balochistan': '728751645b',\n",
       "  'Khyber Pakhtunkhwa': '5c920cb575',\n",
       "  'Gilgit Baltistan': '5e64130b3c',\n",
       "  'Azad Kashmir': '11122db3a7',\n",
       "  'Islamabad': '79d322f6af'},\n",
       " {'Qinghai': '2548fda330',\n",
       "  'Sichuan': '913d4fb6f5',\n",
       "  'Gansu': '40203abf69',\n",
       "  'Heilongjiang': 'cb820cac10',\n",
       "  'Yunnan': 'fbbaa0bdee',\n",
       "  'Hunan': 'ef03de6b7e',\n",
       "  'Shaanxi': '2008310234',\n",
       "  'Hebei': 'b34b8fe975',\n",
       "  'Jilin': '101fe88098',\n",
       "  'Hubei': '862d67fa0c',\n",
       "  'Guizhou': '16d255be27',\n",
       "  'Jiangxi': '26e394e27c',\n",
       "  'Henan': '0bd6e7991c',\n",
       "  'Shanxi': 'bd62d81009',\n",
       "  'Shandong': 'd35c6eec24',\n",
       "  'Liaoning': 'a7754eece0',\n",
       "  'Anhui': '8b4b69aa1a',\n",
       "  'Fujian': 'ff4b00fe0e',\n",
       "  'Jiangsu': 'd4950dbd8d',\n",
       "  'Zhejiang': '89ee394895',\n",
       "  'Taiwan': '2b6f37c2ef',\n",
       "  'Hainan': 'f9c44e220d',\n",
       "  'Hong Kong': '24562166f6',\n",
       "  'Tibet': '067aada4ec',\n",
       "  'Beijing': 'e051062624'},\n",
       " {'January': 'b7c425144e',\n",
       "  'February': 'd134743c3b',\n",
       "  'March': '4f95b40952',\n",
       "  'April': '87bc6d8b53',\n",
       "  'May': 'cd4a4775fc',\n",
       "  'June': 'c4168729e1',\n",
       "  'July': '3465ae9810',\n",
       "  'August': '94836d37ab',\n",
       "  'September': '4c57f9bbea',\n",
       "  'October': '12e2bbc91a',\n",
       "  'November': 'a67fa3403b',\n",
       "  'December': '4ac8992bb9'})"
      ]
     },
     "execution_count": 10,
     "metadata": {},
     "output_type": "execute_result"
    }
   ],
   "source": [
    "#dCountries,dEvents,dProvincePak,dProvinceChina,dMonths"
   ]
  },
  {
   "cell_type": "code",
   "execution_count": null,
   "metadata": {},
   "outputs": [],
   "source": [
    "#round 2"
   ]
  },
  {
   "cell_type": "code",
   "execution_count": 14,
   "metadata": {},
   "outputs": [],
   "source": [
    "dCountries = {}\n",
    "dEvents = {}\n",
    "dProvincePak = {}\n",
    "dProvinceChina = {}\n",
    "dMonths = {}\n",
    "\n",
    "for a in countries:\n",
    "    dCountries[a] = int(hashlib.sha512(a.encode()).hexdigest()[0:10], 16)\n",
    "    \n",
    "for a in months:\n",
    "    dMonths[a] = int(hashlib.sha512(a.encode()).hexdigest()[0:10], 16)\n",
    "    \n",
    "for a in events:\n",
    "    dEvents[a] = int(hashlib.sha512(a.encode()).hexdigest()[0:10], 16)\n",
    "    \n",
    "for a in provincePak:\n",
    "    dProvincePak[a] = int(hashlib.sha512(a.encode()).hexdigest()[0:10], 16)\n",
    "    \n",
    "for a in provinceChina:\n",
    "    dProvinceChina[a] = int(hashlib.sha512(a.encode()).hexdigest()[0:10], 16)"
   ]
  },
  {
   "cell_type": "code",
   "execution_count": 15,
   "metadata": {},
   "outputs": [
    {
     "data": {
      "text/plain": [
       "({'India': 599540218941,\n",
       "  'China': 922074254021,\n",
       "  'Pakistan': 805650366791,\n",
       "  'Bangladesh': 550924169409,\n",
       "  'Afghanistan': 796255062975},\n",
       " {'Civil unrest': 842955241147,\n",
       "  'Attack': 173815961506,\n",
       "  'Disease outbreak': 782389966709,\n",
       "  'Flood': 504567342880},\n",
       " {'Sindh': 1083570781771,\n",
       "  'Punjab': 115979017587,\n",
       "  'Balochistan': 491896530011,\n",
       "  'Khyber Pakhtunkhwa': 397587297653,\n",
       "  'Gilgit Baltistan': 405405895484,\n",
       "  'Azad Kashmir': 73319429031,\n",
       "  'Islamabad': 523233326767},\n",
       " {'Qinghai': 160138371888,\n",
       "  'Sichuan': 623798892277,\n",
       "  'Gansu': 275418627945,\n",
       "  'Heilongjiang': 874060229648,\n",
       "  'Yunnan': 1081167887854,\n",
       "  'Hunan': 1026562091902,\n",
       "  'Shaanxi': 137576383028,\n",
       "  'Hebei': 770066868597,\n",
       "  'Jilin': 69254807704,\n",
       "  'Hubei': 576287406604,\n",
       "  'Guizhou': 98018115111,\n",
       "  'Jiangxi': 167026942588,\n",
       "  'Henan': 50850142492,\n",
       "  'Shanxi': 813407145993,\n",
       "  'Shandong': 907788872740,\n",
       "  'Liaoning': 719227645152,\n",
       "  'Anhui': 598265670170,\n",
       "  'Fujian': 1096475016718,\n",
       "  'Jiangsu': 913033772429,\n",
       "  'Zhejiang': 592407251093,\n",
       "  'Taiwan': 186549519087,\n",
       "  'Hainan': 1072740311565,\n",
       "  'Hong Kong': 156063852278,\n",
       "  'Tibet': 27828004076,\n",
       "  'Beijing': 963432031780},\n",
       " {'January': 789269779534,\n",
       "  'February': 898528197691,\n",
       "  'March': 341814020434,\n",
       "  'April': 582981880659,\n",
       "  'May': 881714492924,\n",
       "  'June': 842191546849,\n",
       "  'July': 225044240400,\n",
       "  'August': 637860132779,\n",
       "  'September': 327893498858,\n",
       "  'October': 81113368858,\n",
       "  'November': 715105976379,\n",
       "  'December': 321193061305})"
      ]
     },
     "execution_count": 15,
     "metadata": {},
     "output_type": "execute_result"
    }
   ],
   "source": [
    "dCountries,dEvents,dProvincePak,dProvinceChina,dMonths"
   ]
  },
  {
   "cell_type": "code",
   "execution_count": null,
   "metadata": {},
   "outputs": [],
   "source": []
  }
 ],
 "metadata": {
  "kernelspec": {
   "display_name": "Python 3",
   "language": "python",
   "name": "python3"
  },
  "language_info": {
   "codemirror_mode": {
    "name": "ipython",
    "version": 3
   },
   "file_extension": ".py",
   "mimetype": "text/x-python",
   "name": "python",
   "nbconvert_exporter": "python",
   "pygments_lexer": "ipython3",
   "version": "3.7.4"
  }
 },
 "nbformat": 4,
 "nbformat_minor": 2
}
