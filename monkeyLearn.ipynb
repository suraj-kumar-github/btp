{
 "cells": [
  {
   "cell_type": "code",
   "execution_count": 10,
   "metadata": {},
   "outputs": [
    {
     "name": "stdout",
     "output_type": "stream",
     "text": [
      "{'id': 'ex_zU4txsUn', 'name': 'test', 'description': '', 'is_public': False, 'model_version': 'v3.0', 'created': '2020-04-04T15:20:53.908717+00:00', 'industries': [], 'priority': 0, 'last_trained': '2020-04-04T19:16:21+00:00', 'last_deployed': '2020-04-04T18:30:11.149829+00:00', 'model': {'tags': [{'tag_name': 'New Tag', 'parsed_value': True, 'tags': None}, {'tag_name': 'data', 'parsed_value': True, 'tags': None}, {'tag_name': 'victim', 'parsed_value': True, 'tags': None}, {'tag_name': 'name', 'parsed_value': True, 'tags': None}, {'tag_name': 'year', 'parsed_value': True, 'tags': None}, {'tag_name': 'month', 'parsed_value': True, 'tags': None}, {'tag_name': 'date', 'parsed_value': True, 'tags': None}, {'tag_name': 'country', 'parsed_value': True, 'tags': None}]}, 'production_model': {'tags': [{'tag_name': 'New Tag', 'parsed_value': True, 'tags': None}, {'tag_name': 'data', 'parsed_value': True, 'tags': None}, {'tag_name': 'victim', 'parsed_value': True, 'tags': None}, {'tag_name': 'name', 'parsed_value': True, 'tags': None}, {'tag_name': 'year', 'parsed_value': True, 'tags': None}, {'tag_name': 'month', 'parsed_value': True, 'tags': None}, {'tag_name': 'date', 'parsed_value': True, 'tags': None}, {'tag_name': 'country', 'parsed_value': True, 'tags': None}]}}\n"
     ]
    }
   ],
   "source": [
    "from monkeylearn import MonkeyLearn\n",
    "model_id= 'ex_zU4txsUn'\n",
    "MonkeyLearnAPIKey= '09c96df13fe78cfbf8ae9b56a824cf8106640d14'\n",
    "\n",
    "ml = MonkeyLearn(MonkeyLearnAPIKey)\n",
    "response = ml.extractors.detail(model_id)\n",
    "print(response.body)"
   ]
  },
  {
   "cell_type": "code",
   "execution_count": null,
   "metadata": {},
   "outputs": [],
   "source": []
  },
  {
   "cell_type": "code",
   "execution_count": null,
   "metadata": {},
   "outputs": [],
   "source": []
  }
 ],
 "metadata": {
  "kernelspec": {
   "display_name": "Python 3",
   "language": "python",
   "name": "python3"
  }
 },
 "nbformat": 4,
 "nbformat_minor": 2
}
