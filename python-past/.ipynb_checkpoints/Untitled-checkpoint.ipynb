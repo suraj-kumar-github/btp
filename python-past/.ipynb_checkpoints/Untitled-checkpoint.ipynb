{
 "cells": [
  {
   "cell_type": "code",
   "execution_count": 1,
   "metadata": {},
   "outputs": [],
   "source": [
    "import nltk"
   ]
  },
  {
   "cell_type": "code",
   "execution_count": 17,
   "metadata": {},
   "outputs": [],
   "source": [
    "def find_keyword(test_string = 'Hacker news is a good site while Techcrunch not so much'):\n",
    "    key_file = open('.txt')\n",
    "    data = key_file.read()\n",
    "    words = data.split()\n",
    "    word_freq = {}\n",
    "    for word in words:\n",
    "        if word in word_freq:\n",
    "            word_freq[word]+=1\n",
    "        else:\n",
    "            word_freq[word] = 1\n",
    "    word_prob_dict = {}\n",
    "    size_corpus = len(words)\n",
    "    for word in word_freq:\n",
    "        word_prob_dict[word] = float(word_freq[word])/size_corpus\n",
    "\n",
    "    prob_list = []\n",
    "    for word, prob in word_prob_dict.items():\n",
    "         prob_list.append(prob)\n",
    "    non_exist_prob = min(prob_list)/2\n",
    "\n",
    "    words = test_string.split()\n",
    "    test_word_freq = {}\n",
    "    for word in words:\n",
    "        if word in test_word_freq:\n",
    "            test_word_freq[word]+=1\n",
    "        else:\n",
    "            test_word_freq[word] = 1\n",
    "\n",
    "    test_words_ba = {}\n",
    "    for word, freq in test_word_freq.items():\n",
    "        if word in word_prob_dict:\n",
    "            test_words_ba[word] = freq/word_prob_dict[word]\n",
    "        else:\n",
    "            test_words_ba[word] = freq/non_exist_prob\n",
    "\n",
    "    test_word_ba_list = []\n",
    "    for word, ba in test_words_ba.items():\n",
    "         test_word_ba_list.append((word, ba))\n",
    "\n",
    "    def sort_func(a, b):\n",
    "        if a[1] > b[1]:\n",
    "            return -1\n",
    "        elif a[1] < b[1]:\n",
    "            return 1\n",
    "        return 0\n",
    "\n",
    "    test_word_ba_list.sort(sort_func)\n",
    "    return test_word_ba_list[:2]"
   ]
  }
 ],
 "metadata": {
  "kernelspec": {
   "display_name": "Python 3",
   "language": "python",
   "name": "python3"
  },
  "language_info": {
   "codemirror_mode": {
    "name": "ipython",
    "version": 3
   },
   "file_extension": ".py",
   "mimetype": "text/x-python",
   "name": "python",
   "nbconvert_exporter": "python",
   "pygments_lexer": "ipython3",
   "version": "3.7.4"
  }
 },
 "nbformat": 4,
 "nbformat_minor": 2
}
