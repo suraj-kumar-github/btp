{
 "cells": [
  {
   "cell_type": "code",
   "execution_count": 1,
   "metadata": {},
   "outputs": [
    {
     "data": {
      "text/plain": [
       "'world top 23 ya 24 rss feeds link\\nhttps://www.reddit.com/r/worldnews/.rss\\nhttp://feeds.bbci.co.uk/news/world/rss.xml\\nhttps://www.nytimes.com/svc/collections/v1/publish/https://www.nytimes.com/section/world/rss.xml\\nhttps://www.buzzfeed.com/world.xml\\nhttp://www.aljazeera.com/xml/rss/all.xml\\nhttp://defence-blog.com/feed\\nhttps://www.e-ir.info/category/blogs/feed/\\nhttp://www.globalissues.org/news/feed\\nhttps://www.thecipherbrief.com/feed\\nhttps://www.yahoo.com/news/world/rss\\nhttp://rss.cnn.com/rss/edition_world.rss\\nhttps://timesofindia.indiatimes.com/rssfeeds/296589292.cms\\nhttps://www.theguardian.com/world/rss\\nhttp://feeds.washingtonpost.com/rss/world\\nhttps://www.cnbc.com/id/100727362/device/rss/rss.html\\nhttps://www.rt.com/rss/news/\\nhttp://feeds.feedburner.com/ndtvnews-world-news\\nhttp://feeds.reuters.com/Reuters/worldNews\\nhttp://www.npr.org/rss/rss.php?id=1004\\nhttps://time.com/feed\\nhttp://www.independent.co.uk/news/world/rss\\nhttp://feeds.feedburner.com/time/world\\nhttp://abcnews.go.com/abcnews/internationalheadlines\\n'"
      ]
     },
     "execution_count": 1,
     "metadata": {},
     "output_type": "execute_result"
    }
   ],
   "source": [
    "'''\n",
    "Note: This file collects 200 headlines that may take infinite time to run, \n",
    "so beware, run only a few of them, like I have done\n",
    "~ptn\n",
    "'''\n",
    "\n",
    "'''rss feed links - India's top 15\n",
    "https://timesofindia.indiatimes.com/rssfeedstopstories.cms?x=1\n",
    "http://feeds.feedburner.com/NDTV-LatestNews\n",
    "https://www.indiatoday.in/rss/1206578\n",
    "https://indianexpress.com/feed/\n",
    "https://www.thehindu.com/news/national/?service=rss\n",
    "http://www.news18.com/rss/india.xml\n",
    "http://www.firstpost.com/feed/rss\n",
    "https://www.business-standard.com/rss/latest.rss\n",
    "https://www.dnaindia.com/feeds/india.xml\n",
    "https://www.deccanchronicle.com/rss_feed/\n",
    "https://www.oneindia.com/rss/news-india-fb.xml\n",
    "http://feeds.feedburner.com/ScrollinArticles.rss\n",
    "http://www.financialexpress.com/feed\n",
    "https://www.thehindubusinessline.com/?service=rss\n",
    "http://www.outlookindia.com/rss/home\n",
    "'''\n",
    "\n",
    "'''world top 23 ya 24 rss feeds link\n",
    "https://www.reddit.com/r/worldnews/.rss\n",
    "http://feeds.bbci.co.uk/news/world/rss.xml\n",
    "https://www.nytimes.com/svc/collections/v1/publish/https://www.nytimes.com/section/world/rss.xml\n",
    "https://www.buzzfeed.com/world.xml\n",
    "http://www.aljazeera.com/xml/rss/all.xml\n",
    "http://defence-blog.com/feed\n",
    "https://www.e-ir.info/category/blogs/feed/\n",
    "http://www.globalissues.org/news/feed\n",
    "https://www.thecipherbrief.com/feed\n",
    "https://www.yahoo.com/news/world/rss\n",
    "http://rss.cnn.com/rss/edition_world.rss\n",
    "https://timesofindia.indiatimes.com/rssfeeds/296589292.cms\n",
    "https://www.theguardian.com/world/rss\n",
    "http://feeds.washingtonpost.com/rss/world\n",
    "https://www.cnbc.com/id/100727362/device/rss/rss.html\n",
    "https://www.rt.com/rss/news/\n",
    "http://feeds.feedburner.com/ndtvnews-world-news\n",
    "http://feeds.reuters.com/Reuters/worldNews\n",
    "http://www.npr.org/rss/rss.php?id=1004\n",
    "https://time.com/feed\n",
    "http://www.independent.co.uk/news/world/rss\n",
    "http://feeds.feedburner.com/time/world\n",
    "http://abcnews.go.com/abcnews/internationalheadlines\n",
    "'''"
   ]
  },
  {
   "cell_type": "code",
   "execution_count": 2,
   "metadata": {},
   "outputs": [],
   "source": [
    "import feedparser\n",
    "import urllib\n",
    "import urllib.request\n",
    "from bs4 import BeautifulSoup"
   ]
  },
  {
   "cell_type": "code",
   "execution_count": 3,
   "metadata": {},
   "outputs": [],
   "source": [
    "rssLinks = ['https://timesofindia.indiatimes.com/rssfeedstopstories.cms?x=1',\n",
    "            'http://feeds.feedburner.com/NDTV-LatestNews',\n",
    "            'https://www.indiatoday.in/rss/1206578',\n",
    "            'https://indianexpress.com/feed/',\n",
    "            'https://www.thehindu.com/news/national/?service=rss',\n",
    "            'http://www.news18.com/rss/india.xml',\n",
    "            'http://www.firstpost.com/feed/rss',\n",
    "            'https://www.business-standard.com/rss/latest.rss',\n",
    "            'https://www.dnaindia.com/feeds/india.xml',\n",
    "            'https://www.deccanchronicle.com/rss_feed/',\n",
    "            'https://www.oneindia.com/rss/news-india-fb.xml',\n",
    "            'http://feeds.feedburner.com/ScrollinArticles.rss',\n",
    "            'http://www.financialexpress.com/feed',\n",
    "            'https://www.thehindubusinessline.com/?service=rss',\n",
    "            'http://www.outlookindia.com/rss/home']"
   ]
  },
  {
   "cell_type": "code",
   "execution_count": 4,
   "metadata": {},
   "outputs": [],
   "source": [
    "def parseRSS( rss_url ):\n",
    "    return feedparser.parse( rss_url )\n",
    "\n",
    "def getHeadlines(rss_url):\n",
    "    headlines = []\n",
    " \n",
    "    feed = parseRSS(rss_url)\n",
    "    for newsitem in feed['items']:\n",
    "        headlines.append(newsitem['link'])\n",
    " \n",
    "    return headlines"
   ]
  },
  {
   "cell_type": "code",
   "execution_count": 5,
   "metadata": {},
   "outputs": [],
   "source": [
    "allheadlines = []#contains the urls from all the \n",
    "feedurls = []\n",
    "for link in rssLinks:\n",
    "    newsurl = {\n",
    "        'googlenews': link,\n",
    "    }\n",
    "    feedurls.append(newsurl)"
   ]
  },
  {
   "cell_type": "code",
   "execution_count": 6,
   "metadata": {},
   "outputs": [
    {
     "data": {
      "text/plain": [
       "[{'googlenews': 'https://timesofindia.indiatimes.com/rssfeedstopstories.cms?x=1'},\n",
       " {'googlenews': 'http://feeds.feedburner.com/NDTV-LatestNews'},\n",
       " {'googlenews': 'https://www.indiatoday.in/rss/1206578'},\n",
       " {'googlenews': 'https://indianexpress.com/feed/'},\n",
       " {'googlenews': 'https://www.thehindu.com/news/national/?service=rss'},\n",
       " {'googlenews': 'http://www.news18.com/rss/india.xml'},\n",
       " {'googlenews': 'http://www.firstpost.com/feed/rss'},\n",
       " {'googlenews': 'https://www.business-standard.com/rss/latest.rss'},\n",
       " {'googlenews': 'https://www.dnaindia.com/feeds/india.xml'},\n",
       " {'googlenews': 'https://www.deccanchronicle.com/rss_feed/'},\n",
       " {'googlenews': 'https://www.oneindia.com/rss/news-india-fb.xml'},\n",
       " {'googlenews': 'http://feeds.feedburner.com/ScrollinArticles.rss'},\n",
       " {'googlenews': 'http://www.financialexpress.com/feed'},\n",
       " {'googlenews': 'https://www.thehindubusinessline.com/?service=rss'},\n",
       " {'googlenews': 'http://www.outlookindia.com/rss/home'}]"
      ]
     },
     "execution_count": 6,
     "metadata": {},
     "output_type": "execute_result"
    }
   ],
   "source": [
    "feedurls"
   ]
  },
  {
   "cell_type": "code",
   "execution_count": 7,
   "metadata": {},
   "outputs": [],
   "source": [
    "\n",
    "for data in feedurls:\n",
    "    for key, url in data.items():\n",
    "        allheadlines.extend(getHeadlines(url))"
   ]
  },
  {
   "cell_type": "code",
   "execution_count": 8,
   "metadata": {},
   "outputs": [
    {
     "data": {
      "text/plain": [
       "['https://timesofindia.indiatimes.com/india/coronavirus-in-india-live-updates-india-corona-cases-count-tops-9000-death-toll-past-300/liveblog/75102774.cms',\n",
       " 'https://timesofindia.indiatimes.com/india/how-up-gave-template-for-corona-cluster-containment/articleshow/75116741.cms',\n",
       " 'https://timesofindia.indiatimes.com/india/as-444-from-australia-fly-home-us-nationals-prefer-to-stay-back/articleshow/75113781.cms',\n",
       " 'https://timesofindia.indiatimes.com/india/is-the-centres-lockdown-different-from-a-states-lockdown/articleshow/75116029.cms',\n",
       " 'https://timesofindia.indiatimes.com/city/delhi/earthquake-in-delhi-today-low-intensity-earthquake-hits-delhi/articleshow/75120986.cms',\n",
       " 'http://feedproxy.google.com/~r/NDTV-LatestNews/~3/cfDbykF4U5M/coronavirus-delhi-odd-even-rules-in-delhis-wholesale-markets-amid-covid-19-concerns-2210947',\n",
       " 'http://feedproxy.google.com/~r/NDTV-LatestNews/~3/KH0SMSg3Pwk/2020-mahindra-scorpio-bs6-variants-explained-in-detail-2210856',\n",
       " 'http://feedproxy.google.com/~r/NDTV-LatestNews/~3/yzsh3ypxxzk/amazon-us-stops-accepting-new-online-grocery-customers-amid-surging-demand-2210929',\n",
       " 'http://feedproxy.google.com/~r/NDTV-LatestNews/~3/vkJfNqx5D3c/iphone-12-series-said-to-feature-ipad-pro-like-design-smaller-homepod-also-tipped-2210938',\n",
       " 'http://feedproxy.google.com/~r/NDTV-LatestNews/~3/GPVLNy1SmdE/coronavirus-delhi-delhi-man-impersonates-ias-officer-busted-after-he-argues-with-cops-2210936',\n",
       " 'http://feedproxy.google.com/~r/NDTV-LatestNews/~3/ZYAdYcza8lI/find-someone-who-looks-at-you-the-way-virat-kohli-looks-at-anushka-sharma-2210933',\n",
       " 'http://feedproxy.google.com/~r/NDTV-LatestNews/~3/GbnhxK0VPIo/coronavirus-covid-19-helpline-queries-does-sunbathing-or-sipping-hot-water-help-2210931',\n",
       " 'http://feedproxy.google.com/~r/NDTV-LatestNews/~3/sb7EZEgSj7g/visas-of-foreigners-stranded-in-india-due-to-covid-19-extended-till-april-30-news-agency-pti-2210928',\n",
       " 'http://feedproxy.google.com/~r/NDTV-LatestNews/~3/Oe1NjBuvvt0/moscow-blames-hackers-for-coronavirus-permit-problems-as-cases-rise-2210925',\n",
       " 'http://feedproxy.google.com/~r/NDTV-LatestNews/~3/qf3m_GW9laE/bse-sensex-today-live-updates-sensex-ends-470-points-lower-nifty-at-8994-amid-coronavirus-2210924',\n",
       " 'http://feedproxy.google.com/~r/NDTV-LatestNews/~3/87SPv0WFGRk/mumbai-polices-mask-hai-na-tweet-has-a-shah-rukh-khan-twist-2210921',\n",
       " 'http://feedproxy.google.com/~r/NDTV-LatestNews/~3/rgSEV9ZU6L8/matthew-hayden-suresh-raina-share-their-favourite-ipl-moments-watch-2210916',\n",
       " 'http://feedproxy.google.com/~r/NDTV-LatestNews/~3/BTzKGOCH3lk/no-sonakshi-sinha-and-varun-dhawan-werent-breaking-lockdown-stop-spreading-rumours-twitter-2210911',\n",
       " 'http://feedproxy.google.com/~r/NDTV-LatestNews/~3/u0XLX6ZebqY/vietnam-orders-workers-at-samsung-display-unit-to-be-quarantined-after-covid-19-case-2210910',\n",
       " 'http://feedproxy.google.com/~r/NDTV-LatestNews/~3/TRceNGUb8N8/final-last-generation-porsche-911-speedster-to-be-auctioned-online-for-coronavirus-relief-2210809',\n",
       " 'http://feedproxy.google.com/~r/NDTV-LatestNews/~3/6oskfgYZcZg/supreme-court-on-madhya-pradesh-best-to-keep-distance-from-sordid-tales-of-political-life-2210905',\n",
       " 'http://feedproxy.google.com/~r/NDTV-LatestNews/~3/NnnzXebs1jY/surya-namaskar-variations-try-these-for-better-stamina-endurance-and-flexibility-2210892',\n",
       " 'http://feedproxy.google.com/~r/NDTV-LatestNews/~3/LbL3qkvW1oo/bears-at-temple-once-dependent-on-prasad-search-for-food-amid-lockdown-2210900',\n",
       " 'http://feedproxy.google.com/~r/NDTV-LatestNews/~3/Rv-CM5a0Hg0/car-sales-march-2020-auto-sales-down-by-44-95-per-cent-2210894',\n",
       " 'http://feedproxy.google.com/~r/NDTV-LatestNews/~3/Y2tlQHix6NU/operations-at-three-ports-run-by-adani-ports-disrupted-report-2210899',\n",
       " 'https://www.indiatoday.in/india/story/social-distancing-lucknow-coronavirus-lockdown-1666468-2020-04-13?utm_source=rss',\n",
       " 'https://www.indiatoday.in/india/story/central-lab-says-mamata-govt-not-sending-enough-samples-for-covid-19-tests-as-bengal-reports-fewer-cases-1666467-2020-04-13?utm_source=rss',\n",
       " 'https://www.indiatoday.in/india/story/maharashtra-two-booked-for-sharing-communal-messages-on-whatsapp-group-1666462-2020-04-13?utm_source=rss',\n",
       " 'https://www.indiatoday.in/india/story/kolkata-elderly-couple-coronavirus-lockdown-1666460-2020-04-13?utm_source=rss',\n",
       " 'https://www.indiatoday.in/india/story/pm-modi-to-address-nation-at-10-am-tomorrow-over-lockdown-extension-1666455-2020-04-13?utm_source=rss',\n",
       " 'https://www.indiatoday.in/india/story/earthquake-magnitude-2-7-hits-delhi-news-india-update-1666454-2020-04-13?utm_source=rss',\n",
       " 'https://www.indiatoday.in/india/story/maharashtra-extends-lockdown-till-april-30-as-coronavirus-cases-continue-to-rise-1666452-2020-04-13?utm_source=rss',\n",
       " 'https://www.indiatoday.in/india/story/kashmir-houseboat-owner-booked-for-hiding-british-tourist-during-lockdown-1666451-2020-04-13?utm_source=rss',\n",
       " 'https://www.indiatoday.in/india/story/india-s-decline-in-electricity-consumption-due-to-lockdown-more-severe-than-us-and-eu-1666444-2020-04-13?utm_source=rss',\n",
       " 'https://www.indiatoday.in/india/story/blast-sanitiser-hand-wash-unit-tarapur-mumbai-death-news-update-1666442-2020-04-13?utm_source=rss',\n",
       " 'https://www.indiatoday.in/india/story/cec-coronavirus-salary-cut-1666430-2020-04-13?utm_source=rss',\n",
       " 'https://www.indiatoday.in/india/story/maharashtra-housing-minister-jitendra-awhad-quarantine-coronavirus-1666422-2020-04-13?utm_source=rss',\n",
       " 'https://www.indiatoday.in/india/story/assam-long-queues-outside-liquor-shops-as-stores-open-after-26-days-1666419-2020-04-13?utm_source=rss',\n",
       " 'https://www.indiatoday.in/india/story/supreme-court-madhya-pradesh-floor-test-1666413-2020-04-13?utm_source=rss',\n",
       " 'https://www.indiatoday.in/coronavirus-outbreak/story/is-a-covid-19-patient-really-coronavirus-free-after-being-discharged-from-hospital-1666409-2020-04-13?utm_source=rss',\n",
       " 'https://www.indiatoday.in/india/story/coronavirus-maharashtra-cases-1666412-2020-04-13?utm_source=rss',\n",
       " 'https://www.indiatoday.in/india/story/assam-coronavirus-nizamuddin-tablighi-jamaat-1666403-2020-04-13?utm_source=rss',\n",
       " 'https://www.indiatoday.in/india/story/amid-coronavirus-lockdown-loc-continues-to-be-war-zone-1666401-2020-04-13?utm_source=rss',\n",
       " 'https://www.indiatoday.in/india/story/coronavirus-in-mumbai-more-staffers-of-bhatia-hospital-test-positive-1666391-2020-04-13?utm_source=rss',\n",
       " 'https://www.indiatoday.in/india/story/coronavirus-150-doctors-nurses-of-delhi-max-hospital-quarantined-1666382-2020-04-13?utm_source=rss',\n",
       " 'https://www.indiatoday.in/india/story/pm-narendra-modi-remembers-martyrs-of-jallianwala-massacre-1666369-2020-04-13?utm_source=rss',\n",
       " 'https://www.indiatoday.in/india/story/11-fresh-coronavirus-cases-reported-in-rajasthan-total-tally-815-1666367-2020-04-13?utm_source=rss',\n",
       " 'https://www.indiatoday.in/india/story/coronavirus-india-total-covid-9-cases-tally-number-cases-news-update-1666366-2020-04-13?utm_source=rss',\n",
       " 'https://www.indiatoday.in/india/story/travel-nod-to-wadhawans-shiv-sena-trains-guns-at-ex-cm-devendra-fadnavis-1666364-2020-04-13?utm_source=rss',\n",
       " 'https://www.indiatoday.in/india/story/hyderabad-police-tablighi-jamaat-leader-1666365-2020-04-13?utm_source=rss',\n",
       " 'https://www.indiatoday.in/india/story/karnataka-teen-puts-friend-in-suitcase-to-take-him-home-during-lockdown-1666359-2020-04-13?utm_source=rss',\n",
       " 'https://www.indiatoday.in/india/story/4-new-covid-19-cases-including-one-death-in-dharavi-1666347-2020-04-13?utm_source=rss',\n",
       " 'https://www.indiatoday.in/india/story/first-covid-19-case-in-nagaland-man-from-dimapur-tests-positive-1666338-2020-04-13?utm_source=rss',\n",
       " 'https://www.indiatoday.in/india/story/veteran-congress-leader-rajasekharan-passes-away-1666336-2020-04-13?utm_source=rss',\n",
       " 'https://www.indiatoday.in/india/story/coronavirus-two-held-for-spitting-on-currency-notes-outside-dairy-shop-in-mohali-1666329-2020-04-13?utm_source=rss',\n",
       " 'https://www.indiatoday.in/india/story/after-disinfectant-tunnel-and-drones-noida-authority-begins-sanitisation-with-corona-vajra-tankers-1666307-2020-04-13?utm_source=rss',\n",
       " 'https://www.indiatoday.in/india/story/corona-warriors-ias-officer-returns-to-work-joins-fight-against-covid-19-with-1-month-old-baby-1666301-2020-04-13?utm_source=rss',\n",
       " 'https://www.indiatoday.in/india/story/horoscope-today-april-13-2020-know-what-your-stars-have-for-you-1666294-2020-04-13?utm_source=rss',\n",
       " 'https://www.indiatoday.in/india/story/jharkhand-burial-denied-to-corpse-of-a-coronavirus-positive-patient-in-city-graveyard-1666278-2020-04-13?utm_source=rss',\n",
       " 'https://www.indiatoday.in/india/story/pics-rss-workers-manning-checkpost-triggers-row-in-telangana-1666272-2020-04-13?utm_source=rss',\n",
       " 'https://www.indiatoday.in/india/story/villages-in-up-badaun-sealed-after-man-tests-covid-19-positive-1666271-2020-04-13?utm_source=rss',\n",
       " 'https://www.indiatoday.in/india/story/covid-19-cases-in-delhi-jump-to-1-154-death-toll-reaches-24-authorities-1666270-2020-04-13?utm_source=rss',\n",
       " 'https://www.indiatoday.in/coronavirus-outbreak/story/gujarat-covid-19-cases-mount-516-death-toll-24-1666269-2020-04-13?utm_source=rss',\n",
       " 'https://www.indiatoday.in/india/story/coronavirus-in-india-2-more-deaths-104-new-cases-reported-in-rajasthan-1666268-2020-04-13?utm_source=rss',\n",
       " 'https://www.indiatoday.in/india/story/coronavirus-punjab-cops-attacked-enforcing-lockdown-centre-mulls-easing-of-curbs-as-cases-cross-8-400-1666267-2020-04-13?utm_source=rss',\n",
       " 'https://www.indiatoday.in/india/story/allow-limited-activity-in-select-sectors-services-with-safeguards-dpiit-to-mha-on-lockdown-exit-plan-1666266-2020-04-13?utm_source=rss',\n",
       " 'https://www.indiatoday.in/india/story/mha-again-writes-to-west-bengal-govt-to-ensure-strict-adherence-to-lockdown-1666265-2020-04-13?utm_source=rss',\n",
       " 'https://www.indiatoday.in/coronavirus-outbreak/story/nagaland-reports-first-covid-19-case-1666264-2020-04-13?utm_source=rss',\n",
       " 'https://www.indiatoday.in/india/story/coronavirus-lockdown-after-meghalaya-assam-to-open-liquor-shops-from-monday-1666263-2020-04-13?utm_source=rss',\n",
       " 'https://www.indiatoday.in/india/story/delhi-police-asi-tests-positive-for-coronavirus-1666261-2020-04-12?utm_source=rss',\n",
       " 'https://www.indiatoday.in/coronavirus-outbreak/story/team-assam-fight-against-covid-19-sarbananda-sonowal-1666260-2020-04-12?utm_source=rss',\n",
       " 'https://www.indiatoday.in/india/story/909-coronavirus-cases-reported-in-24-hrs-health-ministry-1666259-2020-04-12?utm_source=rss',\n",
       " 'https://www.indiatoday.in/india/story/mumbai-sudden-spike-in-covid-19-cases-at-govandi-slums-1666258-2020-04-12?utm_source=rss',\n",
       " 'https://www.indiatoday.in/india/story/waiting-for-masters-voice-kamal-haasan-takes-dig-at-tamil-nadu-cm-over-no-decision-on-lockdown-extension-1666257-2020-04-12?utm_source=rss',\n",
       " 'https://www.indiatoday.in/coronavirus-outbreak/story/maharashtra-man-held-selling-fake-lockdown-e-passes-beed-1666256-2020-04-12?utm_source=rss',\n",
       " 'https://www.indiatoday.in/india/story/mumbai-reports-152-new-covid-19-cases-16-deaths-in-one-day-1666254-2020-04-12?utm_source=rss',\n",
       " 'https://www.indiatoday.in/india/story/up-govt-set-up-panels-look-into-problems-various-sectors-cm-yogi-adityanath-1666253-2020-04-12?utm_source=rss',\n",
       " 'https://www.indiatoday.in/india/story/hardeep-puri-demands-exemplary-punishment-nihangs-chopped-off-policeman-hand-1666252-2020-04-12?utm_source=rss',\n",
       " 'https://www.indiatoday.in/india/story/dmk-kamal-haasan-slam-tamil-nadu-govt-for-stopping-donation-of-food-essential-supplies-1666251-2020-04-12?utm_source=rss',\n",
       " 'https://www.indiatoday.in/india/story/pakistan-shoot-boats-gujarat-coast-fisherman-injured-1666250-2020-04-12?utm_source=rss',\n",
       " 'https://www.indiatoday.in/india/story/indore-two-detainees-who-attacked-cops-test-positive-for-covid-19-in-satna-jail-1666246-2020-04-12?utm_source=rss',\n",
       " 'https://www.indiatoday.in/india/story/covid-19-containment-zones-in-delhi-rises-to-43-1666241-2020-04-12?utm_source=rss',\n",
       " 'https://www.indiatoday.in/india/story/covid1-west-bengal-wearing-masks-compulsory-public-places-1666239-2020-04-12?utm_source=rss',\n",
       " 'https://www.indiatoday.in/india/story/lockdown-meghalaya-allows-opening-of-wine-shops-from-monday-1666238-2020-04-12?utm_source=rss',\n",
       " 'https://www.indiatoday.in/india/story/odisha-new-coronavirus-cases-tablighi-jamaat-event-link-april-12-1666237-2020-04-12?utm_source=rss',\n",
       " 'https://www.indiatoday.in/coronavirus-outbreak/story/noida-no-fresh-covid-19-case-reported-13-discharged-so-far-1666236-2020-04-12?utm_source=rss',\n",
       " 'https://www.indiatoday.in/india/story/kashmir-retired-army-jawan-shot-at-by-militants-in-critical-condition-1666234-2020-04-12?utm_source=rss',\n",
       " 'https://www.indiatoday.in/india/story/coronavirus-uttar-pradesh-new-cases-covid-19-april-12-1666233-2020-04-12?utm_source=rss',\n",
       " 'https://www.indiatoday.in/india/story/greater-noida-man-quarantined-as-suspected-covid-19-patient-jumps-to-death-1666231-2020-04-12?utm_source=rss',\n",
       " 'https://www.indiatoday.in/coronavirus-outbreak/story/state-govts-working-ensure-home-delivery-essential-items-covid-19-hotspots-mha-1666230-2020-04-12?utm_source=rss',\n",
       " 'https://www.indiatoday.in/india/story/punjab-cop-hand-succesfully-reattached-after-being-chopped-with-sword-in-attack-by-nihangs-1666222-2020-04-12?utm_source=rss',\n",
       " 'https://www.indiatoday.in/india/story/exclusive-who-special-envoy-bats-for-pm-modi-s-jaan-bhi-jahaan-bhi-model-of-lockdown-extension-1666219-2020-04-12?utm_source=rss',\n",
       " 'https://www.indiatoday.in/india/story/easy-to-announce-lockdown-challenge-to-end-it-rajasthan-cm-ashok-gehlot-1666215-2020-04-12?utm_source=rss',\n",
       " 'https://www.indiatoday.in/india/story/covid19-why-govt-not-helping-indian-students-stranded-abroad-asks-congress-1666214-2020-04-12?utm_source=rss',\n",
       " 'https://www.indiatoday.in/india/story/coronavirus-tamil-nadu-cases-state-launches-interactive-voice-responsive-system-1666212-2020-04-12?utm_source=rss',\n",
       " 'https://www.indiatoday.in/india/story/tamil-nadu-trichy-coronavirus-patient-spits-at-nurse-booked-by-police-1666211-2020-04-12?utm_source=rss',\n",
       " 'https://www.indiatoday.in/coronavirus-outbreak/story/106-fresh-covid-19-cases-tamil-nadu-total-mounts-1-075-1666209-2020-04-12?utm_source=rss',\n",
       " 'https://www.indiatoday.in/india/story/went-to-mahabaleshwar-to-escape-from-coronavirus-in-mumbai-dhfl-promoters-1666208-2020-04-12?utm_source=rss',\n",
       " 'https://www.indiatoday.in/india/story/how-cops-enforce-social-distancing-delhi-mandis-1666206-2020-04-12?utm_source=rss',\n",
       " 'https://www.indiatoday.in/india/story/mha-asks-states-uts-to-take-welfare-measures-for-migrant-workers-hit-by-covid-19-lockdown-1666205-2020-04-12?utm_source=rss']"
      ]
     },
     "execution_count": 8,
     "metadata": {},
     "output_type": "execute_result"
    }
   ],
   "source": [
    "allheadlines[0:100]#1200 links hone chahiye"
   ]
  },
  {
   "cell_type": "code",
   "execution_count": 9,
   "metadata": {},
   "outputs": [],
   "source": [
    "head = allheadlines[0:10]#taking only 10 to run"
   ]
  },
  {
   "cell_type": "code",
   "execution_count": 10,
   "metadata": {},
   "outputs": [
    {
     "data": {
      "text/plain": [
       "['https://timesofindia.indiatimes.com/india/coronavirus-in-india-live-updates-india-corona-cases-count-tops-9000-death-toll-past-300/liveblog/75102774.cms',\n",
       " 'https://timesofindia.indiatimes.com/india/how-up-gave-template-for-corona-cluster-containment/articleshow/75116741.cms',\n",
       " 'https://timesofindia.indiatimes.com/india/as-444-from-australia-fly-home-us-nationals-prefer-to-stay-back/articleshow/75113781.cms',\n",
       " 'https://timesofindia.indiatimes.com/india/is-the-centres-lockdown-different-from-a-states-lockdown/articleshow/75116029.cms',\n",
       " 'https://timesofindia.indiatimes.com/city/delhi/earthquake-in-delhi-today-low-intensity-earthquake-hits-delhi/articleshow/75120986.cms',\n",
       " 'http://feedproxy.google.com/~r/NDTV-LatestNews/~3/cfDbykF4U5M/coronavirus-delhi-odd-even-rules-in-delhis-wholesale-markets-amid-covid-19-concerns-2210947',\n",
       " 'http://feedproxy.google.com/~r/NDTV-LatestNews/~3/KH0SMSg3Pwk/2020-mahindra-scorpio-bs6-variants-explained-in-detail-2210856',\n",
       " 'http://feedproxy.google.com/~r/NDTV-LatestNews/~3/yzsh3ypxxzk/amazon-us-stops-accepting-new-online-grocery-customers-amid-surging-demand-2210929',\n",
       " 'http://feedproxy.google.com/~r/NDTV-LatestNews/~3/vkJfNqx5D3c/iphone-12-series-said-to-feature-ipad-pro-like-design-smaller-homepod-also-tipped-2210938',\n",
       " 'http://feedproxy.google.com/~r/NDTV-LatestNews/~3/GPVLNy1SmdE/coronavirus-delhi-delhi-man-impersonates-ias-officer-busted-after-he-argues-with-cops-2210936']"
      ]
     },
     "execution_count": 10,
     "metadata": {},
     "output_type": "execute_result"
    }
   ],
   "source": [
    "head"
   ]
  },
  {
   "cell_type": "code",
   "execution_count": 11,
   "metadata": {},
   "outputs": [],
   "source": [
    "texts = []#to collect the text from rss sites\n",
    "if(head):#if(allheadlines):\n",
    "    for a in head:#for a in allheadlines:\n",
    "        try:\n",
    "            with urllib.request.urlopen(a) as url:s = url.read()\n",
    "            soup = BeautifulSoup(s)\n",
    "        except Exception as e:\n",
    "            continue\n",
    "        # kill all script and style elements\n",
    "        for script in soup([\"script\", \"style\", \"input\", \"head\", \"meta\", \"header\", \"[document]\", \"noscript\"]):\n",
    "            script.extract()    # rip it out\n",
    "\n",
    "        # get text\n",
    "        texts.append(soup.get_text())\n",
    "      "
   ]
  },
  {
   "cell_type": "code",
   "execution_count": 12,
   "metadata": {},
   "outputs": [
    {
     "data": {
      "text/plain": [
       "'\\n\\n\\n\\n\\nOpen in appEnglishहिन्दीमराठीবাংলা ગુજરાતીಕನ್ನಡதமிழ்తెలుగుമലയാളം|Epaper|GadgetsNowHI, Edit ProfileMy TimesRedeemLOGOUTSign InNotification CenterNews / India NewsTop Searches:Coronavirus in IndiaCoronavirus cases in IndiaLockdown in IndiaCoronavirus updateHotspots in IndiaHow UP gave template for corona cluster containmentShailvee Sharda, Deepak Lavania| TNN | Updated: Apr 13, 2020, 12:48 ISTMunicipal worker splash sanitizer to contain the spread of Covid-19 during the lockdown in Agra. (ANI Photo)LUCKNOW: From being the first to declare a coronavirus cluster in Agra -- much before the all-India lockdown was announced on March 24 -- to undertaking house-to-house contact-tracing, making self-reporting mandatory and building a specialized app to track the health of those under home isolation and quarantine, UP has set a template to combat the virus.\\n\\n\"Much before other states adopted the strategy of cluster containment to check the spread of coronavirus, UP had practised it successfully in Agra, when the first case surfaced on March 1,\" says a senior government on the condition on anonymity.\\n\\n\\nCoronavirus pandemic: Live updates\\n\\n\\n\"The district though has maximum number of cases in the state, the spread has been contained to clusters. In fact there was no case for 10 days till March 25, when the first cases of Tablighi Jamaat surfaced. Since then all cases are either linked to the jammat or two known sources,\" he says.\\n\\nWhile the state\\'s strategy has been lauded by the Union health ministry,additional chief secretary, home and information, UP Awanish Awasthi says: “Had it not been for our effective strategy, the number of cases in UP would have been much higher, adding \"Our work and strategy has been lauded by the union health ministry besides providing a model that can be emulated in other places.” he adds.\\n\\n\\nMore on Covid-19\\n\\n\\n\\nCoronavirus pandemic: Complete Coverage\\n21-day lockdown: What will stay open and what won\\'t\\nHow to quarantine yourself at home\\nTrust the newspaper for your daily verified news\\n\\n\\n“The template of \\'UP Model\\' was drawn in Khandari area of Agra in the first week of March when six persons of a leather exporters family became the first few to contract the infection. Steps taken in Agra not only controlled the situation in Agra, it provided the containment strategy that was used successfully in Noida and Meerut – listed among hotspots,” said state surveillance officer, Vikasendu Agarwal adding, “the model has widely appreciated by Union health authorities as well.”\\n\\nIt all started after six people of a shoe-exporter family were tested positive in Agra on March 2. These cases were linked to the son-in-law on the exporter, who was the first coronavirus case in Delhi.\\n\\nChief medical officer of Agra district, Dr Mukesh Kumar Vats, says that the airport tests confirmed the presence of coronavirus-affected patients in the city at around 2 am on March 1, and the team of officials immediately got into action. The area within a 3-km radius of the affected house in Khandari ara of the city was sealed in order to contain the virus in the area itself.\\n\\n\\nIt\\'s time to mask up and stay safe: Join TOI\\'s #MaskIndia campaign\\n\\n\"Then, 259 teams, consisting of two members each, were formed and screened about 9 lakh people in over 1.6 lakh houses in the next few days. Around 1,000 samples were collected and the authorities transformed SN Medical College in the city to function as the base camp. Moreover, a security guard was taken on board to supply the necessities to the families in the sealed area,\" he adds.\\n\\n“Every single person who worked in the factory of the positive businessman was screened and tracked regularly. Likewise, the schools attended by the children who tested positive were sealed and sanitized. Eight days after the Agra family, a person from his factory tested positive. The local selective lockdown imposed by the district administration helped in keeping the numbers under control,” said Agarwal.\\n\\n\\nDownloadThe Times of India News App for Latest India NewsSubscribeStart Your Daily Mornings with Times of India Newspaper! Order Now\\n\\n\\n\\nReadPost a commentAll Comments ()+^ Back to TopCharacters Remaining: 3000Continue without loginorLogin from existing accountFacebookGoogleEmailShare on FacebookShare on TwitterRefrain from posting comments that are obscene, defamatory or inflammatory, and do not indulge in personal attacks, name calling or inciting hatred against any community. Help us delete comments that do not follow these guidelines by marking them offensive. Let\\'s work together to keep the conversation civil.HIDE+All CommentsYour ActivitySortUpVotedNewestOldestDiscussedDown VotedBe the first one to review.We have sent you a verification email. To verify, just follow the link in the messagemore from times of india NewsCoronavirus NewsUS Presidential ElectionUS NewsPakistan NewsDonald TrumpChina NewsSouth Asia NewsWorld NewsNarendra ModiBRAND LOGOS/TOI PLUS LOGO WhiteCreated with Sketch.StoriesSEE AllWhy the handicraft sector needs a helping hand during lockdownIn Tamil Nadu, Tablighi Jamaat members seek compassion, not hostilityHow Covid-19 lockdown has hit disabled people hardLoan moratorium: Should you skip 3 EMIs?Trending TopicsCorona cases in IndiaCoronavirus updateEarthquake in DelhiCoronavirus India update liveKarnataka Corona CasesLockdown news in IndiaThank you Coronavirus helpersFace MaskAlcohol Online SaleJEE MainLATEST VIDEOSTop VideosCovid-19: ICMR releases an augmented plan to fast-track testing02:20Nidhhi Agerwal looks ravishing in her latest pic00:46Trending VideosLIVA Miss Diva 2020: Lucknow Audition03:22Shefali Sood talks about her preparations for Miss Supranational 201902:43Shefali Sood shares message for her fans02:09Suman Rao talks about her excitement to visit London01:11More From TOIIs Dalgona Coffee over-hyped? Planets impact our taste & food habitsTop products to make your “work from home” life easyAmazon Audible: Listen to the best of audiobooks by starting your free trial todayNavbharat TimesFeatured Today In TravelVeteran Congress leader Rajasekharan passes away‘har ghar chup chap se kehta hai’ stirs many emotions, inspires people to stay home and safePM Modi pays tribute to martyrs of Jallianwala Bagh massacre1How UP gave template for corona cluster containment2Veteran Congress leader Rajasekharan passes away3‘har ghar chup chap se kehta hai’ stirs many emotions, inspires people to stay home and safe4PM Modi pays tribute to martyrs of Jallianwala Bagh massacreQuick LinksCoronavirus in MumbaiCoronavirus in KolkataCoronavirus in HyderabadCoronavirus in DelhiCoronavirus in BangaloreCoronavirus symptomsCoronavirus in IndiaWhat is CoronavirusCoronavirus NewsSolar EclipseNPRWhat is NRCCAB BillCAB and NRCRTI BillPodcast newsLok SabhaShiv SenaYSRCPCongressBJP newsUIDAIIndian ArmyISRO newsSupreme CourtTrending in IndiaJyotiraditya ScindiaOmar AbdullahSachin PilotAsaduddin OwaisiMayawatiRajnath SinghOther Times Group news sitesThe Economic Times Mumbai Mirror IGN India Hindi Economic TimesTimes Now I am GujaratPune Mirror Times Now HindiTamil SamayamBangalore Mirror Maharashtra TimesTelugu SamayamAhmedabad Mirror Go Green Miss Kyra ItsMyAscent Navbharat TimesEducation Times FILMIPOP Hindi Brand Capital Eisamay Indiatimes Gujarati Economic TimesVijaya KarnatakaMalayalam SamayamTimes FoodGames AppMX PlayerTimesPointsLiving and entertainmentiDiva MensXP.com Femina ETimesGrazia Zoom Travel Destinations Bombay Times Cricbuzz.com Filmfare Online Songs TVLifestyle Longwalks AppNewspaper SubscriptionFood NewsTimes PrimeWhats Hottop trendsCorona cases in IndiaCoronavirus updateMaharashtra newsCoronavirus India update liveKarnataka Corona CasesLockdown news in IndiaThank you Coronavirus helpersFace MaskMaharashtra Geography ExamAlcohol Online SaleJEE Main Homemade face maskCoronavirus in ChinaFace Masks IndiaCoronavirus newsHoroscope todayStep by Step Pizza RecipeservicesAds 2 BookBank Exam AppET Money Finance AppCouponDuniaDineoutMagicbricksTechgigTimes JobsBollywood NewsTimes MobileRemit 2 IndiaTC NextAstro SpeakGadgets NowCareersColombiaPopular CategoriesHeadlinesSports NewsBusiness NewsIndia NewsWorld NewsBollywood NewsHealth & Fitness TipsIndian TV ShowsCelebrity Photoshot on the webAkshara Singh Sexy VideoNew Sexy Video SongShweta BachchanSalman is BusyDipika ChikhaliaPooja HegdeGoogle DoodleArun GovilChahatt KhannaTrending topicsAnupama ParameswaranShatrughan SinhaNeha KakkarJanhvi KapoorSS RajamouliKaran JoharArjun KapoorKatrina KaifAlia BhattAnushka SharmaSalman KhanTara SutariaApple AirpodsSamsung S Voice AssistantLG VelvetAmazon App QuizCoronavirus in kolkataBangalore LockdownMumbai LockdownBoris JohnsonCoronavirus in SingaporeFollow us onfacebooktwitterrss feedyoutubedownload toi appandroidiphoneBlackBerryipadwindows phoneAbout us Create Your Own Ad Terms of Use and Grievance Redressal Policy Privacy policy Privacy policy Advertise with us RSS Newsletter Feedback ePaper Sitemap Archives Copyright © 2020 Bennett, Coleman & Co. Ltd. All rights reserved. For reprint rights: Times Syndication Service '"
      ]
     },
     "execution_count": 12,
     "metadata": {},
     "output_type": "execute_result"
    }
   ],
   "source": [
    "texts[0]"
   ]
  },
  {
   "cell_type": "code",
   "execution_count": 24,
   "metadata": {},
   "outputs": [
    {
     "data": {
      "text/plain": [
       "\"\\n \\n\\n\\n\\n\\n\\n\\n\\n\\n\\n\\n\\n \\n\\n\\n\\n\\n\\n\\n\\nHome\\n\\n\\nNews\\n\\n\\n2020 Mahindra Scorpio BS6: Variants Explained In Detail\\n\\n\\n\\n\\n\\n\\n\\n\\n\\n\\n\\n\\n\\n2020 Mahindra Scorpio BS6: Variants Explained In Detail\\n\\nThe 2020 Mahindra Scorpio now comes in only four variants - S5, S7, S9, and S11, as against the eight trims offered with the BS4 model. The entry-level S3 variant along with the All-Wheel-Drive (AWD) and automatic options have been dropped.\\n\\n\\n\\n\\n\\n By\\xa0\\n                                        Seshan Vijayraghvan\\n\\n| Updated: 5 minutes ago\\n\\n\\n0\\xa0 Views\\n\\n\\n\\n\\n\\n\\n\\n\\n\\n\\n\\n\\n\\n\\n\\n\\n\\n\\n\\n\\n\\n\\n\\n\\n\\n\\n\\n\\n\\n\\n\\n\\n\\nView Photos\\n\\n\\nThe 2020 Mahindra Scorpio BS6 only comes in 4 variants and drops the automatic & AWD trims\\n\\n\\n\\nHighlights\\n\\nMahindra has released details about the BS6 Scorpio on its website\\r\\nThe BS6 Mahindra Scorpio comes in 4 variants - S5, S7, S9, and S11\\r\\nThe BS6 Mahindra Scorpio now gets a 2.2-litre mHawk diesel engine\\n\\n\\n\\n\\nRecently the official website of the Mahindra Scorpio was updated with details about the BS6 compliant model. While the carmaker hasn't announced the prices yet, variant details, engine specifications, and features of\\xa0the 2020 Mahindra Scorpio BS6 have been released. Given the lockdown situation, the company has said that there has been a delay in the production of the new BS6 Mahindra Scorpio, which will commence after the lockdown, and that is when the prices will be announced. However, based on what the company has revealed, the 2020 Mahindra Scorpio now comes in only four variants - S5, S7, S9, and S11, as against the eight trims offered with the BS4 model. The company has dropped the entry-level S3 variant, and the four wheel drive automatic options too have been discontinued for now.\\nAlso Read: 2020 Mahindra Scorpio BS6: All You Need To Know\\nHere Are The 2020 Mahindra Scorpio BS6's Variants Explained In Detail:\\nMahindra Scorpio S5:\\nThe new entry-level variant of the Mahindra Scorpio BS6 gets the same features as before. The exterior offerings include - all-black 7-slot grille, black steel wheels with hub caps, rear footrest, LED taillamps, body-coloured bumpers and side cladding, black ORVMs, black rear number plate applique, hood scoop, clear lens turn indicators, fender bezels finished in black, high-mounted stop lamp (bulb).\\nAlso Read: Mahindra Scorpio BS6 Specifications Revealed; Loses AT And 4WD Variants\\n\\n\\n2020 Mahindra Scorpio BS6 now only comes in 4 variants and loses both the AWD and AT trims\\n\\nAs for the cabin, the S5 trim comes with a manual HVAC system, manual levers to adjust ORVMs, tilt-adjustable steering, fabric upholstery, manual central locking system, lead-me-to-vehicle headlamps, headlamps levelling and remote fuel lid opener switches, 12V power socket silver side footstep, and static roof lamp. The car also gets intellipark and Micro-Hybrid technology. Safety features include - dual airbags, ABS, speed alert, speed sensing door lock and panic brake indicator, collapsible steering column and side intrusion beam, seat belt reminder lamp, speed sensing door lock and engine immobiliser.\\nAlso Read: Next-Gen Mahindra Scorpio Caught Testing\\n\\n\\n2020 Mahindra Scorpio BS6's S7 and S9 trims get silver inserts while the S11 variant gets chrome inserts\\n\\n\\n\\n\\n\\nMahindra Scorpio S7:\\nIn addition to the features offered with the S5 trim, the S7 variant offers silver grille inserts, projector headlamps, roof rails, rear spoiler, silver rear number plate applique, fender bezels finished in silver, body-coloured ORVMs, and LED stop lamps. The cabin, on the other hand, comes with chrome finish for AC vents, height-adjustable driver's seat, front armrest, electrically adjustable ORVMs, power window switches on door trims, sunglass holder, speakers and tweeters, rear wiper and washer, follow-me-home headlamps, puddle lamp, black side footsteps, roof lamps with swivel function. The SUV also gets a 2DIN audio system (CD/USB/AUX-IN), voice assist system, remote central lock, and anti-theft warning.\\n\\n\\n2020 Mahindra Scorpio BS6's S9 and S11 trims gets a 7-inch touchscreen infotainment system\\n\\nMahindra Scorpio S9:\\nAlong with the features offered with the S7 trim, the S9 variant comes with LED daytime running lamps, static bending function for headlamps, and ORVMs with side indicators. The cabin comes with fully automatic climate control, steering mounted audio and cruise control buttons, anti-pinch & anti-roll-up driver window, and all 4 power windows. Other features include a 7-inch touchscreen infotainment system with driver information app showing fuel economy, distance to empty, service reminder etc. This variant also gets speed-sensing volume control and gear position indicator. The SUV also gets front foglamps and emergency call function.\\nMahindra Scorpio S11:\\nThe top-end S11 variant of the BS6 Scorpio offers add-on features like - chrome inserts for the grille, alloy wheels, chrome bezels for foglamps, faux upholstery, faux leather-wrapped steering and gear lever, GPS navigation in 10 languages, reverse parking camera with dynamic lines, tyre-pressure monitor, and rain and light sensors.\\n\\n2020 Mahindra Scorpio has only one engine on offer, 138 bhp, BS6 compliant, 2.2-litre mHawk\\n0 CommentsThe BS6 Mahindra Scorpio now comes with only one engine on offer - a BS6 compliant 2.2-litre mHawk diesel engine that is tuned to churn out 138 bhp and 320 Nm of peak torque. As for transmission duties, the entry-level S5 variant comes paired with 5-speed manual gearbox, while the rest of the variants get a 6-speed manual transmission. For the latest auto news and reviews, follow CarandBike on Twitter, Facebook, and subscribe to our YouTube channel. \\n\\nCompare Mahindra Scorpio with Immediate Rivals\\n\\n\\n\\n\\n\\n\\n\\nMahindra\\nScorpio\\n\\n\\n\\n\\n\\n\\n\\n\\n\\n\\nRenault\\nDuster\\n\\n\\n\\n\\n\\n\\n\\nKia\\nSeltos\\n\\n\\n\\n\\n\\n\\n\\nHyundai\\nCreta\\n\\n\\n\\n\\n\\n\\n\\nNissan\\nTerrano\\n\\n\\n\\n\\n\\n\\n\\nTata\\nNexon EV\\n\\n\\n\\n\\n\\n\\n\\nJeep\\nCompass\\n\\n\\n\\n\\n\\n\\n\\nVolkswagen\\nT-Roc\\n\\n\\n\\n\\n\\n\\n\\nMG\\nZS EV\\n\\n\\n\\n\\n\\n\\n\\nHyundai\\nKona Electric\\n\\n\\n\\n\\n\\n\\nCOMPARE\\n\\n\\n\\n\\n \\n\\n\\n \\n\\n\\n\\n\\n\\n \\n\\n\\n\\n \\n\\n\\n \\n\\n\\n \\n \\nYou may interested in\\n\\n\\n\\n\\n\\n\\nMahindra Scorpio\\n₹ 7.36 - 16.63 Lakh *\\n\\n\\n\\n\\n\\n\\n\\nRenault Duster\\n₹ 8.49 - 9.99 Lakh *\\n\\n\\n\\n\\n\\n\\n\\nKia Seltos\\n₹ 9.89 - 17.34 Lakh *\\n\\n\\n\\n\\n\\n\\n\\nHyundai Creta\\n₹ 9.99 - 17.2 Lakh *\\n\\n\\n\\n\\n\\n\\n\\nNissan Terrano\\n₹ 10 - 14.65 Lakh *\\n\\n\\n\\n\\n\\n\\n\\nTata Nexon EV\\n₹ 13.99 - 15.99 Lakh *\\n\\n\\n\\n\\n\\n\\n\\nJeep Compass\\n₹ 15.6 - 27.6 Lakh *\\n\\n\\n\\n\\n\\n\\n\\nVolkswagen T-Roc\\n₹ 19.99 Lakh *\\n\\n\\n\\n\\n\\n\\n\\nMG ZS EV\\n₹ 20.88 - 23.58 Lakh *\\n\\n\\n\\n\\n\\n\\n\\nHyundai Kona Electric\\n₹ 23.72 - 23.91 Lakh *\\n\\n\\n\\nView More\\n\\n\\n\\n\\nSubscribe to Our Newsletter\\n\\n\\n\\n\\n\\n\\n\\n\\n\\n\\nOver 1.5+ Lakhs subscribers\\n\\n\\nThank you for Subscribing to Us\\n\\n\\n \\n\\n\\n\\n\\n\\n\\n \\n\\n\\n\\n\\nx\\n\\n\\n\\n\\n\\nTop Indian Industrialists and Their Cars\\n\\n\\n\\n\\n\\nElectric Royal Enfield Photon Unveiled\\n\\n\\n\\n\\n\\nMahindra Ventilators With Updated Features Begin Endurance Testing\\n\\n\\n\\n\\n\\nHero Splendor Plus is gaining popularity. Find all the details here.\\n\\n\\n\\n \\n\\n\\n\\n\\n\\n\\n\\nSelect your City\\n\\n\\n\\n\\n\\n\\n\\nor select from popular cities\\n\\n\\n\\n\\n\\n\\nNew Delhi \\n\\n\\n\\n\\n\\n\\n\\n\\nMumbai \\n\\n\\n\\n\\n\\n\\n\\n\\nBangalore \\n\\n\\n\\n\\n\\n\\n\\n\\nHyderabad \\n\\n\\n\\n\\n\\n\\n\\n\\nChennai \\n\\n\\n\\n\\n\\n\\n\\n\\nKolkata \\n\\n\\n\\n\\n\\n\\n\\n\\nAhmedabad \\n\\n\\n\\n\\n\\n\\n\\n \\n\\n \\n\\n\\n\\n\\nCar and Bike Info\\n\\nUpcoming Cars \\nUsed Cars\\nSell Your Car\\nCompare Cars\\nUpcoming Bikes\\nLatest Bike Launches\\nCompare Bikes\\n\\n \\nPopular Car Brands\\n\\n\\nMaruti Suzuki\\n\\n\\nHyundai\\n\\n\\nHonda\\n\\n\\nBMW\\n\\n\\nAudi\\n\\n\\nRenault\\n\\n\\n \\nPopular car Models\\n\\n\\nMG Hector\\n\\n\\nHyundai Venue\\n\\n\\nMahindra XUV300\\n\\n\\nNew Maruti Suzuki Swift\\n\\n\\nToyota Glanza\\n\\n\\nRenault Kwid\\n\\n \\n\\nPopular Bike Brands\\n\\n\\nHero\\n\\n\\nHonda\\n\\n\\nMahindra\\n\\n\\nBajaj\\n\\n\\nYamaha\\n\\n\\nSuzuki\\n\\n\\n \\nPopular bike Models\\n\\n\\nYamaha FZ S V3.0 FI\\n\\n\\nBajaj Pulsar 150\\n\\n\\nHero Splendor Plus\\n\\n\\nHonda Activa 5G\\n\\n\\nYamaha R15 V3.0\\n\\n\\nKTM RC 200\\n\\n \\n\\n\\n\\nNeed Help?\\n        Call: +91 70663 70663 (Mon : Fri, 10am to 6pm) | Email: contact@carandbike.com\\n\\n\\n\\n\\n&COPY; Copyright Fifth Gear Ventures Ltd 2020. All rights reserved.\\n\\n\\nAbout Us\\n\\n\\nAdvertise\\n\\n\\nPrivacy Policy\\n\\n\\nFeedback\\n\\n\\nDisclaimer\\n\\n\\nCareers\\n\\n\\nComplaint\\n\\n\\nTerms of Service\\n\\n\\nSite Map\\n\\n\\n\\n\\n\\n\\n\\n\\n\\n\\n\\n\\n\\n\\n\\n\\n\\n\\n\\n\\n\\n\\n\\n\\n\\n\\n\\n\\n\\n\\n\\n\\n\\n\\n\\n\\n\""
      ]
     },
     "execution_count": 24,
     "metadata": {},
     "output_type": "execute_result"
    }
   ],
   "source": [
    "texts[-1]"
   ]
  },
  {
   "cell_type": "code",
   "execution_count": 25,
   "metadata": {},
   "outputs": [],
   "source": [
    "'''\n",
    "articles = []\n",
    "for a in texts:   \n",
    "    textList = a.split('\\n\\n\\n\\n\\n')\n",
    "    article = max(textList, key = len)\n",
    "    articles.append(article)\n",
    "'''\n",
    "\n",
    "#iska implementation for one text\n",
    "textList = texts[-1].split('\\n\\n\\n\\n\\n')\n",
    "article = max(textList, key = len)\n"
   ]
  },
  {
   "cell_type": "code",
   "execution_count": 26,
   "metadata": {},
   "outputs": [
    {
     "data": {
      "text/plain": [
       "\"\\nMahindra Scorpio S7:\\nIn addition to the features offered with the S5 trim, the S7 variant offers silver grille inserts, projector headlamps, roof rails, rear spoiler, silver rear number plate applique, fender bezels finished in silver, body-coloured ORVMs, and LED stop lamps. The cabin, on the other hand, comes with chrome finish for AC vents, height-adjustable driver's seat, front armrest, electrically adjustable ORVMs, power window switches on door trims, sunglass holder, speakers and tweeters, rear wiper and washer, follow-me-home headlamps, puddle lamp, black side footsteps, roof lamps with swivel function. The SUV also gets a 2DIN audio system (CD/USB/AUX-IN), voice assist system, remote central lock, and anti-theft warning.\\n\\n\\n2020 Mahindra Scorpio BS6's S9 and S11 trims gets a 7-inch touchscreen infotainment system\\n\\nMahindra Scorpio S9:\\nAlong with the features offered with the S7 trim, the S9 variant comes with LED daytime running lamps, static bending function for headlamps, and ORVMs with side indicators. The cabin comes with fully automatic climate control, steering mounted audio and cruise control buttons, anti-pinch & anti-roll-up driver window, and all 4 power windows. Other features include a 7-inch touchscreen infotainment system with driver information app showing fuel economy, distance to empty, service reminder etc. This variant also gets speed-sensing volume control and gear position indicator. The SUV also gets front foglamps and emergency call function.\\nMahindra Scorpio S11:\\nThe top-end S11 variant of the BS6 Scorpio offers add-on features like - chrome inserts for the grille, alloy wheels, chrome bezels for foglamps, faux upholstery, faux leather-wrapped steering and gear lever, GPS navigation in 10 languages, reverse parking camera with dynamic lines, tyre-pressure monitor, and rain and light sensors.\\n\\n2020 Mahindra Scorpio has only one engine on offer, 138 bhp, BS6 compliant, 2.2-litre mHawk\\n0 CommentsThe BS6 Mahindra Scorpio now comes with only one engine on offer - a BS6 compliant 2.2-litre mHawk diesel engine that is tuned to churn out 138 bhp and 320 Nm of peak torque. As for transmission duties, the entry-level S5 variant comes paired with 5-speed manual gearbox, while the rest of the variants get a 6-speed manual transmission. For the latest auto news and reviews, follow CarandBike on Twitter, Facebook, and subscribe to our YouTube channel. \\n\\nCompare Mahindra Scorpio with Immediate Rivals\""
      ]
     },
     "execution_count": 26,
     "metadata": {},
     "output_type": "execute_result"
    }
   ],
   "source": [
    "article"
   ]
  },
  {
   "cell_type": "code",
   "execution_count": null,
   "metadata": {},
   "outputs": [],
   "source": []
  }
 ],
 "metadata": {
  "kernelspec": {
   "display_name": "Python 3",
   "language": "python",
   "name": "python3"
  },
  "language_info": {
   "codemirror_mode": {
    "name": "ipython",
    "version": 3
   },
   "file_extension": ".py",
   "mimetype": "text/x-python",
   "name": "python",
   "nbconvert_exporter": "python",
   "pygments_lexer": "ipython3",
   "version": "3.7.4"
  }
 },
 "nbformat": 4,
 "nbformat_minor": 2
}
