{
 "cells": [
  {
   "cell_type": "code",
   "execution_count": 1,
   "metadata": {},
   "outputs": [
    {
     "data": {
      "text/plain": [
       "'world top 23 ya 24 rss feeds link\\nhttps://www.reddit.com/r/worldnews/.rss\\nhttp://feeds.bbci.co.uk/news/world/rss.xml\\nhttps://www.nytimes.com/svc/collections/v1/publish/https://www.nytimes.com/section/world/rss.xml\\nhttps://www.buzzfeed.com/world.xml\\nhttp://www.aljazeera.com/xml/rss/all.xml\\nhttp://defence-blog.com/feed\\nhttps://www.e-ir.info/category/blogs/feed/\\nhttp://www.globalissues.org/news/feed\\nhttps://www.thecipherbrief.com/feed\\nhttps://www.yahoo.com/news/world/rss\\nhttp://rss.cnn.com/rss/edition_world.rss\\nhttps://timesofindia.indiatimes.com/rssfeeds/296589292.cms\\nhttps://www.theguardian.com/world/rss\\nhttp://feeds.washingtonpost.com/rss/world\\nhttps://www.cnbc.com/id/100727362/device/rss/rss.html\\nhttps://www.rt.com/rss/news/\\nhttp://feeds.feedburner.com/ndtvnews-world-news\\nhttp://feeds.reuters.com/Reuters/worldNews\\nhttp://www.npr.org/rss/rss.php?id=1004\\nhttps://time.com/feed\\nhttp://www.independent.co.uk/news/world/rss\\nhttp://feeds.feedburner.com/time/world\\nhttp://abcnews.go.com/abcnews/internationalheadlines\\n'"
      ]
     },
     "execution_count": 1,
     "metadata": {},
     "output_type": "execute_result"
    }
   ],
   "source": [
    "'''\n",
    "Note: This file collects 200 headlines that may take infinite time to run, \n",
    "so beware, run only a few of them, like I have done\n",
    "~ptn\n",
    "'''\n",
    "\n",
    "'''rss feed links - India's top 15\n",
    "https://timesofindia.indiatimes.com/rssfeedstopstories.cms?x=1\n",
    "http://feeds.feedburner.com/NDTV-LatestNews\n",
    "https://www.indiatoday.in/rss/1206578\n",
    "https://indianexpress.com/feed/\n",
    "https://www.thehindu.com/news/national/?service=rss\n",
    "http://www.news18.com/rss/india.xml\n",
    "http://www.firstpost.com/feed/rss\n",
    "https://www.business-standard.com/rss/latest.rss\n",
    "https://www.dnaindia.com/feeds/india.xml\n",
    "https://www.deccanchronicle.com/rss_feed/\n",
    "https://www.oneindia.com/rss/news-india-fb.xml\n",
    "http://feeds.feedburner.com/ScrollinArticles.rss\n",
    "http://www.financialexpress.com/feed\n",
    "https://www.thehindubusinessline.com/?service=rss\n",
    "http://www.outlookindia.com/rss/home\n",
    "'''\n",
    "\n",
    "'''world top 23 ya 24 rss feeds link\n",
    "https://www.reddit.com/r/worldnews/.rss\n",
    "http://feeds.bbci.co.uk/news/world/rss.xml\n",
    "https://www.nytimes.com/svc/collections/v1/publish/https://www.nytimes.com/section/world/rss.xml\n",
    "https://www.buzzfeed.com/world.xml\n",
    "http://www.aljazeera.com/xml/rss/all.xml\n",
    "http://defence-blog.com/feed\n",
    "https://www.e-ir.info/category/blogs/feed/\n",
    "http://www.globalissues.org/news/feed\n",
    "https://www.thecipherbrief.com/feed\n",
    "https://www.yahoo.com/news/world/rss\n",
    "http://rss.cnn.com/rss/edition_world.rss\n",
    "https://timesofindia.indiatimes.com/rssfeeds/296589292.cms\n",
    "https://www.theguardian.com/world/rss\n",
    "http://feeds.washingtonpost.com/rss/world\n",
    "https://www.cnbc.com/id/100727362/device/rss/rss.html\n",
    "https://www.rt.com/rss/news/\n",
    "http://feeds.feedburner.com/ndtvnews-world-news\n",
    "http://feeds.reuters.com/Reuters/worldNews\n",
    "http://www.npr.org/rss/rss.php?id=1004\n",
    "https://time.com/feed\n",
    "http://www.independent.co.uk/news/world/rss\n",
    "http://feeds.feedburner.com/time/world\n",
    "http://abcnews.go.com/abcnews/internationalheadlines\n",
    "'''"
   ]
  },
  {
   "cell_type": "code",
   "execution_count": 2,
   "metadata": {},
   "outputs": [],
   "source": [
    "import feedparser\n",
    "import urllib\n",
    "import urllib.request\n",
    "from bs4 import BeautifulSoup"
   ]
  },
  {
   "cell_type": "code",
   "execution_count": 3,
   "metadata": {},
   "outputs": [],
   "source": [
    "rssLinks = ['https://timesofindia.indiatimes.com/rssfeedstopstories.cms?x=1',\n",
    "            'http://feeds.feedburner.com/NDTV-LatestNews',\n",
    "            'https://www.indiatoday.in/rss/1206578',\n",
    "            'https://indianexpress.com/feed/',\n",
    "            'https://www.thehindu.com/news/national/?service=rss',\n",
    "            'http://www.news18.com/rss/india.xml',\n",
    "            'http://www.firstpost.com/feed/rss',\n",
    "            'https://www.business-standard.com/rss/latest.rss',\n",
    "            'https://www.dnaindia.com/feeds/india.xml',\n",
    "            'https://www.deccanchronicle.com/rss_feed/',\n",
    "            'https://www.oneindia.com/rss/news-india-fb.xml',\n",
    "            'http://feeds.feedburner.com/ScrollinArticles.rss',\n",
    "            'http://www.financialexpress.com/feed',\n",
    "            'https://www.thehindubusinessline.com/?service=rss',\n",
    "            'http://www.outlookindia.com/rss/home']"
   ]
  },
  {
   "cell_type": "code",
   "execution_count": 4,
   "metadata": {},
   "outputs": [],
   "source": [
    "def parseRSS( rss_url ):\n",
    "    return feedparser.parse( rss_url )\n",
    "\n",
    "def getHeadlines(rss_url):\n",
    "    headlines = []\n",
    " \n",
    "    feed = parseRSS(rss_url)\n",
    "    for newsitem in feed['items']:\n",
    "        headlines.append(newsitem['link'])\n",
    " \n",
    "    return headlines"
   ]
  },
  {
   "cell_type": "code",
   "execution_count": 5,
   "metadata": {},
   "outputs": [],
   "source": [
    "allheadlines = []#contains the urls from all the \n",
    "feedurls = []\n",
    "for link in rssLinks:\n",
    "    newsurl = {\n",
    "        'googlenews': link,\n",
    "    }\n",
    "    feedurls.append(newsurl)"
   ]
  },
  {
   "cell_type": "code",
   "execution_count": 6,
   "metadata": {},
   "outputs": [
    {
     "data": {
      "text/plain": [
       "[{'googlenews': 'https://timesofindia.indiatimes.com/rssfeedstopstories.cms?x=1'},\n",
       " {'googlenews': 'http://feeds.feedburner.com/NDTV-LatestNews'},\n",
       " {'googlenews': 'https://www.indiatoday.in/rss/1206578'},\n",
       " {'googlenews': 'https://indianexpress.com/feed/'},\n",
       " {'googlenews': 'https://www.thehindu.com/news/national/?service=rss'},\n",
       " {'googlenews': 'http://www.news18.com/rss/india.xml'},\n",
       " {'googlenews': 'http://www.firstpost.com/feed/rss'},\n",
       " {'googlenews': 'https://www.business-standard.com/rss/latest.rss'},\n",
       " {'googlenews': 'https://www.dnaindia.com/feeds/india.xml'},\n",
       " {'googlenews': 'https://www.deccanchronicle.com/rss_feed/'},\n",
       " {'googlenews': 'https://www.oneindia.com/rss/news-india-fb.xml'},\n",
       " {'googlenews': 'http://feeds.feedburner.com/ScrollinArticles.rss'},\n",
       " {'googlenews': 'http://www.financialexpress.com/feed'},\n",
       " {'googlenews': 'https://www.thehindubusinessline.com/?service=rss'},\n",
       " {'googlenews': 'http://www.outlookindia.com/rss/home'}]"
      ]
     },
     "execution_count": 6,
     "metadata": {},
     "output_type": "execute_result"
    }
   ],
   "source": [
    "feedurls"
   ]
  },
  {
   "cell_type": "code",
   "execution_count": 7,
   "metadata": {},
   "outputs": [],
   "source": [
    "\n",
    "for data in feedurls:\n",
    "    for key, url in data.items():\n",
    "        allheadlines.extend(getHeadlines(url))"
   ]
  },
  {
   "cell_type": "code",
   "execution_count": 8,
   "metadata": {},
   "outputs": [
    {
     "data": {
      "text/plain": [
       "['https://timesofindia.indiatimes.com/india/coronavirus-in-india-live-updates-india-corona-cases-count-tops-9000-death-toll-past-300/liveblog/75102774.cms',\n",
       " 'https://timesofindia.indiatimes.com/india/how-up-gave-template-for-corona-cluster-containment/articleshow/75116741.cms',\n",
       " 'https://timesofindia.indiatimes.com/india/as-444-from-australia-fly-home-us-nationals-prefer-to-stay-back/articleshow/75113781.cms',\n",
       " 'https://timesofindia.indiatimes.com/india/is-the-centres-lockdown-different-from-a-states-lockdown/articleshow/75116029.cms',\n",
       " 'https://timesofindia.indiatimes.com/india/day-20-of-coronavirus-lockdown-ground-report-from-indian-cities/articleshow/75117242.cms',\n",
       " 'http://feedproxy.google.com/~r/NDTV-LatestNews/~3/mODss1o0vZI/lg-velvet-smartphone-series-teased-concept-renders-leaked-2210861',\n",
       " 'http://feedproxy.google.com/~r/NDTV-LatestNews/~3/rOXu-S7CJTs/medical-oxygen-ip-nitrous-oxide-ip-taxable-under-andhra-pradesh-vat-act-supreme-court-2210891',\n",
       " 'http://feedproxy.google.com/~r/NDTV-LatestNews/~3/U8Y_yTD_4ys/earthquake-of-magnitude-2-7-in-delhi-adjoining-areas-2210882',\n",
       " 'http://feedproxy.google.com/~r/NDTV-LatestNews/~3/tnPi8OkWMxE/free-covid-19-tests-in-amus-jawaharlal-nehru-medical-college-jnmc-2210879',\n",
       " 'http://feedproxy.google.com/~r/NDTV-LatestNews/~3/lnYtu9hZxNU/ambedkar-jayanti-2020-date-importance-and-significance-of-bhim-jayanti-2210873',\n",
       " 'http://feedproxy.google.com/~r/NDTV-LatestNews/~3/7VGrIJ9ySrc/coronavirus-india-news-live-updates-ministers-back-in-offices-from-today-as-centre-alters-strategy-t-2210627',\n",
       " 'http://feedproxy.google.com/~r/NDTV-LatestNews/~3/wnKg3Pos-wU/covid-19-update-south-korea-to-ship-6-lakh-coronavirus-testing-kits-to-us-2210869',\n",
       " 'http://feedproxy.google.com/~r/NDTV-LatestNews/~3/GBF_7KyPl9I/coronavirus-lockdown-pm-narendra-modi-to-address-nation-at-10-am-tomorrow-amid-states-demand-to-exte-2210864',\n",
       " 'http://feedproxy.google.com/~r/NDTV-LatestNews/~3/C_5BhKroDBo/coronavirus-lockdown-fada-seeks-governments-support-for-auto-dealers-2210860',\n",
       " 'http://feedproxy.google.com/~r/NDTV-LatestNews/~3/6uhyaufbsGM/karisma-kapoor-makes-delicious-sunday-brunch-for-easter-see-pics-inside-2210859',\n",
       " 'http://feedproxy.google.com/~r/NDTV-LatestNews/~3/_Z2GfPNNUg0/realme-5g-smartphone-multiple-certification-website-may-be-x3-30w-charging-2210858',\n",
       " 'http://feedproxy.google.com/~r/NDTV-LatestNews/~3/rsI3T1-Boqs/ktm-790-adventure-adventure-r-recalled-in-usa-2210857',\n",
       " 'http://feedproxy.google.com/~r/NDTV-LatestNews/~3/Yk_YK8FJ1ck/damon-launches-two-new-versions-of-hypersport-electric-superbike-2210846',\n",
       " 'http://feedproxy.google.com/~r/NDTV-LatestNews/~3/AMkCXd6kR7Y/plenty-of-batters-happy-he-got-banned-thinks-kevin-pietersen-of-this-pakistani-fast-bowler-watch-vid-2210855',\n",
       " 'http://feedproxy.google.com/~r/NDTV-LatestNews/~3/86Zt-yvMlik/arjun-kapoors-instagram-story-about-malaika-arora-is-just-too-sweet-literally-2210854',\n",
       " 'http://feedproxy.google.com/~r/NDTV-LatestNews/~3/GuCr0Xj-twM/coronavirus-covid19-impact-on-car-sales-domestic-passenger-vehicle-sales-down-51-in-march-siam-2210852',\n",
       " 'http://feedproxy.google.com/~r/NDTV-LatestNews/~3/4ydPZbOHFpA/indian-man-in-dubai-sacked-by-data-firm-over-facebook-post-coronavirus-report-2210851',\n",
       " 'http://feedproxy.google.com/~r/NDTV-LatestNews/~3/LEn2y9V-zUI/covid-19-update-vietnam-rice-atm-feeds-those-out-of-job-amid-coronavirus-lockdown-2210850',\n",
       " 'http://feedproxy.google.com/~r/NDTV-LatestNews/~3/uc33wvbxlEI/share-market-live-updates-sensex-falls-over-500-points-reliance-industries-hdfc-bank-top-drags-2210847',\n",
       " 'http://feedproxy.google.com/~r/NDTV-LatestNews/~3/emGikxRtU0Q/cats-vs-dogs-no-prizes-for-guessing-who-wins-obstacle-course-every-time-2210842',\n",
       " 'https://www.indiatoday.in/india/story/maharashtra-extends-lockdown-till-april-30-as-coronavirus-cases-continue-to-rise-1666452-2020-04-13?utm_source=rss',\n",
       " 'https://www.indiatoday.in/india/story/kashmir-houseboat-owner-booked-for-hiding-british-tourist-during-lockdown-1666451-2020-04-13?utm_source=rss',\n",
       " 'https://www.indiatoday.in/india/story/india-s-decline-in-electricity-consumption-due-to-lockdown-more-severe-than-us-and-eu-1666444-2020-04-13?utm_source=rss',\n",
       " 'https://www.indiatoday.in/india/story/blast-sanitiser-hand-wash-unit-tarapur-mumbai-death-news-update-1666442-2020-04-13?utm_source=rss',\n",
       " 'https://www.indiatoday.in/india/story/cec-coronavirus-salary-cut-1666430-2020-04-13?utm_source=rss',\n",
       " 'https://www.indiatoday.in/india/story/maharashtra-housing-minister-jitendra-awhad-quarantine-coronavirus-1666422-2020-04-13?utm_source=rss',\n",
       " 'https://www.indiatoday.in/india/story/assam-long-queues-outside-liquor-shops-as-stores-open-after-26-days-1666419-2020-04-13?utm_source=rss',\n",
       " 'https://www.indiatoday.in/india/story/supreme-court-madhya-pradesh-floor-test-1666413-2020-04-13?utm_source=rss',\n",
       " 'https://www.indiatoday.in/coronavirus-outbreak/story/is-a-covid-19-patient-really-coronavirus-free-after-being-discharged-from-hospital-1666409-2020-04-13?utm_source=rss',\n",
       " 'https://www.indiatoday.in/india/story/coronavirus-maharashtra-cases-1666412-2020-04-13?utm_source=rss',\n",
       " 'https://www.indiatoday.in/india/story/assam-coronavirus-nizamuddin-tablighi-jamaat-1666403-2020-04-13?utm_source=rss',\n",
       " 'https://www.indiatoday.in/india/story/amid-coronavirus-lockdown-loc-continues-to-be-war-zone-1666401-2020-04-13?utm_source=rss',\n",
       " 'https://www.indiatoday.in/india/story/coronavirus-in-mumbai-more-staffers-of-bhatia-hospital-test-positive-1666391-2020-04-13?utm_source=rss',\n",
       " 'https://www.indiatoday.in/india/story/coronavirus-150-doctors-nurses-of-delhi-max-hospital-quarantined-1666382-2020-04-13?utm_source=rss',\n",
       " 'https://www.indiatoday.in/india/story/pm-narendra-modi-remembers-martyrs-of-jallianwala-massacre-1666369-2020-04-13?utm_source=rss',\n",
       " 'https://www.indiatoday.in/india/story/11-fresh-coronavirus-cases-reported-in-rajasthan-total-tally-815-1666367-2020-04-13?utm_source=rss',\n",
       " 'https://www.indiatoday.in/india/story/coronavirus-india-total-covid-9-cases-tally-number-cases-news-update-1666366-2020-04-13?utm_source=rss',\n",
       " 'https://www.indiatoday.in/india/story/travel-nod-to-wadhawans-shiv-sena-trains-guns-at-ex-cm-devendra-fadnavis-1666364-2020-04-13?utm_source=rss',\n",
       " 'https://www.indiatoday.in/india/story/hyderabad-police-tablighi-jamaat-leader-1666365-2020-04-13?utm_source=rss',\n",
       " 'https://www.indiatoday.in/india/story/karnataka-teen-puts-friend-in-suitcase-to-take-him-home-during-lockdown-1666359-2020-04-13?utm_source=rss',\n",
       " 'https://www.indiatoday.in/india/story/4-new-covid-19-cases-including-one-death-in-dharavi-1666347-2020-04-13?utm_source=rss',\n",
       " 'https://www.indiatoday.in/india/story/first-covid-19-case-in-nagaland-man-from-dimapur-tests-positive-1666338-2020-04-13?utm_source=rss',\n",
       " 'https://www.indiatoday.in/india/story/veteran-congress-leader-rajasekharan-passes-away-1666336-2020-04-13?utm_source=rss',\n",
       " 'https://www.indiatoday.in/india/story/coronavirus-two-held-for-spitting-on-currency-notes-outside-dairy-shop-in-mohali-1666329-2020-04-13?utm_source=rss',\n",
       " 'https://www.indiatoday.in/india/story/after-disinfectant-tunnel-and-drones-noida-authority-begins-sanitisation-with-corona-vajra-tankers-1666307-2020-04-13?utm_source=rss',\n",
       " 'https://www.indiatoday.in/india/story/corona-warriors-ias-officer-returns-to-work-joins-fight-against-covid-19-with-1-month-old-baby-1666301-2020-04-13?utm_source=rss',\n",
       " 'https://www.indiatoday.in/india/story/horoscope-today-april-13-2020-know-what-your-stars-have-for-you-1666294-2020-04-13?utm_source=rss',\n",
       " 'https://www.indiatoday.in/india/story/jharkhand-burial-denied-to-corpse-of-a-coronavirus-positive-patient-in-city-graveyard-1666278-2020-04-13?utm_source=rss',\n",
       " 'https://www.indiatoday.in/india/story/pics-rss-workers-manning-checkpost-triggers-row-in-telangana-1666272-2020-04-13?utm_source=rss',\n",
       " 'https://www.indiatoday.in/india/story/villages-in-up-badaun-sealed-after-man-tests-covid-19-positive-1666271-2020-04-13?utm_source=rss',\n",
       " 'https://www.indiatoday.in/india/story/covid-19-cases-in-delhi-jump-to-1-154-death-toll-reaches-24-authorities-1666270-2020-04-13?utm_source=rss',\n",
       " 'https://www.indiatoday.in/coronavirus-outbreak/story/gujarat-covid-19-cases-mount-516-death-toll-24-1666269-2020-04-13?utm_source=rss',\n",
       " 'https://www.indiatoday.in/india/story/coronavirus-in-india-2-more-deaths-104-new-cases-reported-in-rajasthan-1666268-2020-04-13?utm_source=rss',\n",
       " 'https://www.indiatoday.in/india/story/coronavirus-punjab-cops-attacked-enforcing-lockdown-centre-mulls-easing-of-curbs-as-cases-cross-8-400-1666267-2020-04-13?utm_source=rss',\n",
       " 'https://www.indiatoday.in/india/story/allow-limited-activity-in-select-sectors-services-with-safeguards-dpiit-to-mha-on-lockdown-exit-plan-1666266-2020-04-13?utm_source=rss',\n",
       " 'https://www.indiatoday.in/india/story/mha-again-writes-to-west-bengal-govt-to-ensure-strict-adherence-to-lockdown-1666265-2020-04-13?utm_source=rss',\n",
       " 'https://www.indiatoday.in/coronavirus-outbreak/story/nagaland-reports-first-covid-19-case-1666264-2020-04-13?utm_source=rss',\n",
       " 'https://www.indiatoday.in/india/story/coronavirus-lockdown-after-meghalaya-assam-to-open-liquor-shops-from-monday-1666263-2020-04-13?utm_source=rss',\n",
       " 'https://www.indiatoday.in/india/story/delhi-police-asi-tests-positive-for-coronavirus-1666261-2020-04-12?utm_source=rss',\n",
       " 'https://www.indiatoday.in/coronavirus-outbreak/story/team-assam-fight-against-covid-19-sarbananda-sonowal-1666260-2020-04-12?utm_source=rss',\n",
       " 'https://www.indiatoday.in/india/story/909-coronavirus-cases-reported-in-24-hrs-health-ministry-1666259-2020-04-12?utm_source=rss',\n",
       " 'https://www.indiatoday.in/india/story/mumbai-sudden-spike-in-covid-19-cases-at-govandi-slums-1666258-2020-04-12?utm_source=rss',\n",
       " 'https://www.indiatoday.in/india/story/waiting-for-masters-voice-kamal-haasan-takes-dig-at-tamil-nadu-cm-over-no-decision-on-lockdown-extension-1666257-2020-04-12?utm_source=rss',\n",
       " 'https://www.indiatoday.in/coronavirus-outbreak/story/maharashtra-man-held-selling-fake-lockdown-e-passes-beed-1666256-2020-04-12?utm_source=rss',\n",
       " 'https://www.indiatoday.in/india/story/mumbai-reports-152-new-covid-19-cases-16-deaths-in-one-day-1666254-2020-04-12?utm_source=rss',\n",
       " 'https://www.indiatoday.in/india/story/up-govt-set-up-panels-look-into-problems-various-sectors-cm-yogi-adityanath-1666253-2020-04-12?utm_source=rss',\n",
       " 'https://www.indiatoday.in/india/story/hardeep-puri-demands-exemplary-punishment-nihangs-chopped-off-policeman-hand-1666252-2020-04-12?utm_source=rss',\n",
       " 'https://www.indiatoday.in/india/story/dmk-kamal-haasan-slam-tamil-nadu-govt-for-stopping-donation-of-food-essential-supplies-1666251-2020-04-12?utm_source=rss',\n",
       " 'https://www.indiatoday.in/india/story/pakistan-shoot-boats-gujarat-coast-fisherman-injured-1666250-2020-04-12?utm_source=rss',\n",
       " 'https://www.indiatoday.in/india/story/indore-two-detainees-who-attacked-cops-test-positive-for-covid-19-in-satna-jail-1666246-2020-04-12?utm_source=rss',\n",
       " 'https://www.indiatoday.in/india/story/covid-19-containment-zones-in-delhi-rises-to-43-1666241-2020-04-12?utm_source=rss',\n",
       " 'https://www.indiatoday.in/india/story/covid1-west-bengal-wearing-masks-compulsory-public-places-1666239-2020-04-12?utm_source=rss',\n",
       " 'https://www.indiatoday.in/india/story/lockdown-meghalaya-allows-opening-of-wine-shops-from-monday-1666238-2020-04-12?utm_source=rss',\n",
       " 'https://www.indiatoday.in/india/story/odisha-new-coronavirus-cases-tablighi-jamaat-event-link-april-12-1666237-2020-04-12?utm_source=rss',\n",
       " 'https://www.indiatoday.in/coronavirus-outbreak/story/noida-no-fresh-covid-19-case-reported-13-discharged-so-far-1666236-2020-04-12?utm_source=rss',\n",
       " 'https://www.indiatoday.in/india/story/kashmir-retired-army-jawan-shot-at-by-militants-in-critical-condition-1666234-2020-04-12?utm_source=rss',\n",
       " 'https://www.indiatoday.in/india/story/coronavirus-uttar-pradesh-new-cases-covid-19-april-12-1666233-2020-04-12?utm_source=rss',\n",
       " 'https://www.indiatoday.in/india/story/greater-noida-man-quarantined-as-suspected-covid-19-patient-jumps-to-death-1666231-2020-04-12?utm_source=rss',\n",
       " 'https://www.indiatoday.in/coronavirus-outbreak/story/state-govts-working-ensure-home-delivery-essential-items-covid-19-hotspots-mha-1666230-2020-04-12?utm_source=rss',\n",
       " 'https://www.indiatoday.in/india/story/punjab-cop-hand-succesfully-reattached-after-being-chopped-with-sword-in-attack-by-nihangs-1666222-2020-04-12?utm_source=rss',\n",
       " 'https://www.indiatoday.in/india/story/exclusive-who-special-envoy-bats-for-pm-modi-s-jaan-bhi-jahaan-bhi-model-of-lockdown-extension-1666219-2020-04-12?utm_source=rss',\n",
       " 'https://www.indiatoday.in/india/story/easy-to-announce-lockdown-challenge-to-end-it-rajasthan-cm-ashok-gehlot-1666215-2020-04-12?utm_source=rss',\n",
       " 'https://www.indiatoday.in/india/story/covid19-why-govt-not-helping-indian-students-stranded-abroad-asks-congress-1666214-2020-04-12?utm_source=rss',\n",
       " 'https://www.indiatoday.in/india/story/coronavirus-tamil-nadu-cases-state-launches-interactive-voice-responsive-system-1666212-2020-04-12?utm_source=rss',\n",
       " 'https://www.indiatoday.in/india/story/tamil-nadu-trichy-coronavirus-patient-spits-at-nurse-booked-by-police-1666211-2020-04-12?utm_source=rss',\n",
       " 'https://www.indiatoday.in/coronavirus-outbreak/story/106-fresh-covid-19-cases-tamil-nadu-total-mounts-1-075-1666209-2020-04-12?utm_source=rss',\n",
       " 'https://www.indiatoday.in/india/story/went-to-mahabaleshwar-to-escape-from-coronavirus-in-mumbai-dhfl-promoters-1666208-2020-04-12?utm_source=rss',\n",
       " 'https://www.indiatoday.in/india/story/how-cops-enforce-social-distancing-delhi-mandis-1666206-2020-04-12?utm_source=rss',\n",
       " 'https://www.indiatoday.in/india/story/mha-asks-states-uts-to-take-welfare-measures-for-migrant-workers-hit-by-covid-19-lockdown-1666205-2020-04-12?utm_source=rss',\n",
       " 'https://www.indiatoday.in/coronavirus-outbreak/story/coronavirus-outbreak-not-affect-russia-s-400-deliveries-india-ambassador-1666198-2020-04-12?utm_source=rss',\n",
       " 'https://www.indiatoday.in/india/story/3-civilians-killed-near-loc-in-kashmir-1666197-2020-04-12?utm_source=rss',\n",
       " 'https://www.indiatoday.in/india/story/covid-19-delhi-govt-to-sanitise-city-s-red-orange-zones-from-monday-says-arvind-kejriwal-1666196-2020-04-12?utm_source=rss',\n",
       " 'https://www.indiatoday.in/india/story/12-people-test-positive-for-coronavirus-in-raipur-1666195-2020-04-12?utm_source=rss',\n",
       " 'https://www.indiatoday.in/india/story/covid-19-maharashtra-govt-issues-advisory-for-whatsapp-groups-1666194-2020-04-12?utm_source=rss',\n",
       " 'https://www.indiatoday.in/india/story/massive-earthquake-tremors-jolt-delhi-ncr-1666187-2020-04-12?utm_source=rss']"
      ]
     },
     "execution_count": 8,
     "metadata": {},
     "output_type": "execute_result"
    }
   ],
   "source": [
    "allheadlines[0:100]#1200 links hone chahiye"
   ]
  },
  {
   "cell_type": "code",
   "execution_count": 9,
   "metadata": {},
   "outputs": [],
   "source": [
    "head = allheadlines[0:10]#taking only 10 to run"
   ]
  },
  {
   "cell_type": "code",
   "execution_count": 10,
   "metadata": {},
   "outputs": [
    {
     "data": {
      "text/plain": [
       "['https://timesofindia.indiatimes.com/india/coronavirus-in-india-live-updates-india-corona-cases-count-tops-9000-death-toll-past-300/liveblog/75102774.cms',\n",
       " 'https://timesofindia.indiatimes.com/india/how-up-gave-template-for-corona-cluster-containment/articleshow/75116741.cms',\n",
       " 'https://timesofindia.indiatimes.com/india/as-444-from-australia-fly-home-us-nationals-prefer-to-stay-back/articleshow/75113781.cms',\n",
       " 'https://timesofindia.indiatimes.com/india/is-the-centres-lockdown-different-from-a-states-lockdown/articleshow/75116029.cms',\n",
       " 'https://timesofindia.indiatimes.com/india/day-20-of-coronavirus-lockdown-ground-report-from-indian-cities/articleshow/75117242.cms',\n",
       " 'http://feedproxy.google.com/~r/NDTV-LatestNews/~3/mODss1o0vZI/lg-velvet-smartphone-series-teased-concept-renders-leaked-2210861',\n",
       " 'http://feedproxy.google.com/~r/NDTV-LatestNews/~3/rOXu-S7CJTs/medical-oxygen-ip-nitrous-oxide-ip-taxable-under-andhra-pradesh-vat-act-supreme-court-2210891',\n",
       " 'http://feedproxy.google.com/~r/NDTV-LatestNews/~3/U8Y_yTD_4ys/earthquake-of-magnitude-2-7-in-delhi-adjoining-areas-2210882',\n",
       " 'http://feedproxy.google.com/~r/NDTV-LatestNews/~3/tnPi8OkWMxE/free-covid-19-tests-in-amus-jawaharlal-nehru-medical-college-jnmc-2210879',\n",
       " 'http://feedproxy.google.com/~r/NDTV-LatestNews/~3/lnYtu9hZxNU/ambedkar-jayanti-2020-date-importance-and-significance-of-bhim-jayanti-2210873']"
      ]
     },
     "execution_count": 10,
     "metadata": {},
     "output_type": "execute_result"
    }
   ],
   "source": [
    "head"
   ]
  },
  {
   "cell_type": "code",
   "execution_count": 11,
   "metadata": {},
   "outputs": [],
   "source": [
    "texts = []#to collect the text from rss sites\n",
    "if(head):#if(allheadlines):\n",
    "    for a in head:#for a in allheadlines:\n",
    "        try:\n",
    "            with urllib.request.urlopen(a) as url:s = url.read()\n",
    "            soup = BeautifulSoup(s)\n",
    "        except Exception as e:\n",
    "            continue\n",
    "        # kill all script and style elements\n",
    "        for script in soup([\"script\", \"style\", \"input\", \"head\", \"meta\", \"header\", \"[document]\", \"noscript\"]):\n",
    "            script.extract()    # rip it out\n",
    "\n",
    "        # get text\n",
    "        texts.append(soup.get_text())\n",
    "      "
   ]
  },
  {
   "cell_type": "code",
   "execution_count": 12,
   "metadata": {},
   "outputs": [
    {
     "data": {
      "text/plain": [
       "'\\n\\n\\n\\n\\nOpen in appEnglishहिन्दीमराठीবাংলা ગુજરાતીಕನ್ನಡதமிழ்తెలుగుമലയാളം|Epaper|GadgetsNowHI, Edit ProfileMy TimesRedeemLOGOUTSign InNotification CenterNews / India NewsTop Searches:Coronavirus in IndiaCoronavirus cases in IndiaLockdown in IndiaCoronavirus updateHotspots in IndiaHow UP gave template for corona cluster containmentShailvee Sharda, Deepak Lavania| TNN | Updated: Apr 13, 2020, 12:48 ISTMunicipal worker splash sanitizer to contain the spread of Covid-19 during the lockdown in Agra. (ANI Photo)LUCKNOW: From being the first to declare a coronavirus cluster in Agra -- much before the all-India lockdown was announced on March 24 -- to undertaking house-to-house contact-tracing, making self-reporting mandatory and building a specialized app to track the health of those under home isolation and quarantine, UP has set a template to combat the virus.\\n\\n\"Much before other states adopted the strategy of cluster containment to check the spread of coronavirus, UP had practised it successfully in Agra, when the first case surfaced on March 1,\" says a senior government on the condition on anonymity.\\n\\n\\nCoronavirus pandemic: Live updates\\n\\n\\n\"The district though has maximum number of cases in the state, the spread has been contained to clusters. In fact there was no case for 10 days till March 25, when the first cases of Tablighi Jamaat surfaced. Since then all cases are either linked to the jammat or two known sources,\" he says.\\n\\nWhile the state\\'s strategy has been lauded by the Union health ministry,additional chief secretary, home and information, UP Awanish Awasthi says: “Had it not been for our effective strategy, the number of cases in UP would have been much higher, adding \"Our work and strategy has been lauded by the union health ministry besides providing a model that can be emulated in other places.” he adds.\\n\\n\\nMore on Covid-19\\n\\n\\n\\nCoronavirus pandemic: Complete Coverage\\n21-day lockdown: What will stay open and what won\\'t\\nHow to quarantine yourself at home\\nTrust the newspaper for your daily verified news\\n\\n\\n“The template of \\'UP Model\\' was drawn in Khandari area of Agra in the first week of March when six persons of a leather exporters family became the first few to contract the infection. Steps taken in Agra not only controlled the situation in Agra, it provided the containment strategy that was used successfully in Noida and Meerut – listed among hotspots,” said state surveillance officer, Vikasendu Agarwal adding, “the model has widely appreciated by Union health authorities as well.”\\n\\nIt all started after six people of a shoe-exporter family were tested positive in Agra on March 2. These cases were linked to the son-in-law on the exporter, who was the first coronavirus case in Delhi.\\n\\nChief medical officer of Agra district, Dr Mukesh Kumar Vats, says that the airport tests confirmed the presence of coronavirus-affected patients in the city at around 2 am on March 1, and the team of officials immediately got into action. The area within a 3-km radius of the affected house in Khandari ara of the city was sealed in order to contain the virus in the area itself.\\n\\n\\nIt\\'s time to mask up and stay safe: Join TOI\\'s #MaskIndia campaign\\n\\n\"Then, 259 teams, consisting of two members each, were formed and screened about 9 lakh people in over 1.6 lakh houses in the next few days. Around 1,000 samples were collected and the authorities transformed SN Medical College in the city to function as the base camp. Moreover, a security guard was taken on board to supply the necessities to the families in the sealed area,\" he adds.\\n\\n“Every single person who worked in the factory of the positive businessman was screened and tracked regularly. Likewise, the schools attended by the children who tested positive were sealed and sanitized. Eight days after the Agra family, a person from his factory tested positive. The local selective lockdown imposed by the district administration helped in keeping the numbers under control,” said Agarwal.\\n\\n\\nDownloadThe Times of India News App for Latest India NewsSubscribeStart Your Daily Mornings with Times of India Newspaper! Order Now\\n\\n\\n\\nReadPost a commentAll Comments ()+^ Back to TopCharacters Remaining: 3000Continue without loginorLogin from existing accountFacebookGoogleEmailShare on FacebookShare on TwitterRefrain from posting comments that are obscene, defamatory or inflammatory, and do not indulge in personal attacks, name calling or inciting hatred against any community. Help us delete comments that do not follow these guidelines by marking them offensive. Let\\'s work together to keep the conversation civil.HIDE+All CommentsYour ActivitySortUpVotedNewestOldestDiscussedDown VotedBe the first one to review.We have sent you a verification email. To verify, just follow the link in the messagemore from times of india NewsCoronavirus NewsUS Presidential ElectionUS NewsPakistan NewsDonald TrumpChina NewsSouth Asia NewsWorld NewsNarendra ModiBRAND LOGOS/TOI PLUS LOGO WhiteCreated with Sketch.StoriesSEE AllWhy the handicraft sector needs a helping hand during lockdownIn Tamil Nadu, Tablighi Jamaat members seek compassion, not hostilityHow Covid-19 lockdown has hit disabled people hardLoan moratorium: Should you skip 3 EMIs?Trending TopicsCorona cases in IndiaCoronavirus updateEarthquake in DelhiCoronavirus India update liveKarnataka Corona CasesLockdown news in IndiaThank you Coronavirus helpersFace MaskAlcohol Online SaleJEE MainLATEST VIDEOSTop VideosCovid-19: ICMR releases an augmented plan to fast-track testing02:20Nidhhi Agerwal looks ravishing in her latest pic00:46Trending VideosLIVA Miss Diva 2020: Lucknow Audition03:22Shefali Sood talks about her preparations for Miss Supranational 201902:43Shefali Sood shares message for her fans02:09Suman Rao talks about her excitement to visit London01:11More From TOIIs Dalgona Coffee over-hyped? Planets impact our taste & food habitsTop products to make your “work from home” life easyAmazon Audible: Listen to the best of audiobooks by starting your free trial todayNavbharat TimesFeatured Today In TravelVeteran Congress leader Rajasekharan passes away‘har ghar chup chap se kehta hai’ stirs many emotions, inspires people to stay home and safePM Modi pays tribute to martyrs of Jallianwala Bagh massacre1How UP gave template for corona cluster containment2Veteran Congress leader Rajasekharan passes away3‘har ghar chup chap se kehta hai’ stirs many emotions, inspires people to stay home and safe4PM Modi pays tribute to martyrs of Jallianwala Bagh massacreQuick LinksCoronavirus in MumbaiCoronavirus in KolkataCoronavirus in HyderabadCoronavirus in DelhiCoronavirus in BangaloreCoronavirus symptomsCoronavirus in IndiaWhat is CoronavirusCoronavirus NewsSolar EclipseNPRWhat is NRCCAB BillCAB and NRCRTI BillPodcast newsLok SabhaShiv SenaYSRCPCongressBJP newsUIDAIIndian ArmyISRO newsSupreme CourtTrending in IndiaJyotiraditya ScindiaOmar AbdullahSachin PilotAsaduddin OwaisiMayawatiRajnath SinghOther Times Group news sitesThe Economic Times Mumbai Mirror IGN India Hindi Economic TimesTimes Now I am GujaratPune Mirror Times Now HindiTamil SamayamBangalore Mirror Maharashtra TimesTelugu SamayamAhmedabad Mirror Go Green Miss Kyra ItsMyAscent Navbharat TimesEducation Times FILMIPOP Hindi Brand Capital Eisamay Indiatimes Gujarati Economic TimesVijaya KarnatakaMalayalam SamayamTimes FoodGames AppMX PlayerTimesPointsLiving and entertainmentiDiva MensXP.com Femina ETimesGrazia Zoom Travel Destinations Bombay Times Cricbuzz.com Filmfare Online Songs TVLifestyle Longwalks AppNewspaper SubscriptionFood NewsTimes PrimeWhats Hottop trendsCorona cases in IndiaCoronavirus updateMaharashtra newsCoronavirus India update liveKarnataka Corona CasesLockdown news in IndiaThank you Coronavirus helpersFace MaskMaharashtra Geography ExamAlcohol Online SaleJEE Main Homemade face maskCoronavirus in ChinaFace Masks IndiaCoronavirus newsHoroscope todayStep by Step Pizza RecipeservicesAds 2 BookBank Exam AppET Money Finance AppCouponDuniaDineoutMagicbricksTechgigTimes JobsBollywood NewsTimes MobileRemit 2 IndiaTC NextAstro SpeakGadgets NowCareersColombiaPopular CategoriesHeadlinesSports NewsBusiness NewsIndia NewsWorld NewsBollywood NewsHealth & Fitness TipsIndian TV ShowsCelebrity Photoshot on the webAkshara Singh Sexy VideoNew Sexy Video SongShweta BachchanSalman is BusyDipika ChikhaliaPooja HegdeGoogle DoodleArun GovilChahatt KhannaTrending topicsAnupama ParameswaranShatrughan SinhaNeha KakkarJanhvi KapoorSS RajamouliKaran JoharArjun KapoorKatrina KaifAlia BhattAnushka SharmaSalman KhanTara SutariaApple AirpodsSamsung S Voice AssistantLG VelvetAmazon App QuizCoronavirus in kolkataBangalore LockdownMumbai LockdownBoris JohnsonCoronavirus in SingaporeFollow us onfacebooktwitterrss feedyoutubedownload toi appandroidiphoneBlackBerryipadwindows phoneAbout us Create Your Own Ad Terms of Use and Grievance Redressal Policy Privacy policy Privacy policy Advertise with us RSS Newsletter Feedback ePaper Sitemap Archives Copyright © 2020 Bennett, Coleman & Co. Ltd. All rights reserved. For reprint rights: Times Syndication Service '"
      ]
     },
     "execution_count": 12,
     "metadata": {},
     "output_type": "execute_result"
    }
   ],
   "source": [
    "texts[0]"
   ]
  }
 ],
 "metadata": {
  "kernelspec": {
   "display_name": "Python 3",
   "language": "python",
   "name": "python3"
  },
  "language_info": {
   "codemirror_mode": {
    "name": "ipython",
    "version": 3
   },
   "file_extension": ".py",
   "mimetype": "text/x-python",
   "name": "python",
   "nbconvert_exporter": "python",
   "pygments_lexer": "ipython3",
   "version": "3.7.4"
  }
 },
 "nbformat": 4,
 "nbformat_minor": 2
}
