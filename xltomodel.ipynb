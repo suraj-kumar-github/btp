{
 "cells": [
  {
   "cell_type": "code",
   "execution_count": 1,
   "metadata": {},
   "outputs": [
    {
     "data": {
      "text/plain": [
       "\"\\nhashlib.md5('heroine'.encode()).hexdigest()\\nhashlib.sha256('poftutcom'.encode()).hexdigest()\\nhashlib.sha512('poftutcom'.encode()).hexdigest()\\n\\n\\nto do hashing in group, you can use the following command\\nfor h in map(hashlib.sha256,['poftut.com'.encode(),'ismail'.encode(),'ali'.encode()]):\\n h.hexdigest()\\n\""
      ]
     },
     "execution_count": 1,
     "metadata": {},
     "output_type": "execute_result"
    }
   ],
   "source": [
    "#input file is ds.csv\n",
    "\n",
    "import hashlib\n",
    "\n",
    "'''\n",
    "hashlib.md5('heroine'.encode()).hexdigest()\n",
    "hashlib.sha256('poftutcom'.encode()).hexdigest()\n",
    "hashlib.sha512('poftutcom'.encode()).hexdigest()\n",
    "\n",
    "\n",
    "to do hashing in group, you can use the following command\n",
    "for h in map(hashlib.sha256,['poftut.com'.encode(),'ismail'.encode(),'ali'.encode()]):\n",
    " h.hexdigest()\n",
    "'''"
   ]
  },
  {
   "cell_type": "code",
   "execution_count": 2,
   "metadata": {},
   "outputs": [],
   "source": [
    "countries = ['India',\n",
    "'China',\n",
    "'Pakistan',\n",
    "'Bangladesh',\n",
    "'Afghanistan']\n",
    "\n",
    "events=['Civil unrest',\n",
    "'Attack',\n",
    "'Disease outbreak',\n",
    "'Flood']\n",
    "\n",
    "months=['January',\n",
    "'February',\n",
    "'March',\n",
    "'April',\n",
    "'May',\n",
    "'June',\n",
    "'July',\n",
    "'August',\n",
    "'September',\n",
    "'October',\n",
    "'November',\n",
    "'December']\n",
    "#Provinces of Pakistan\n",
    "provincePak= ['Sindh',\n",
    "'Punjab',\n",
    "'Balochistan',\n",
    "'Khyber Pakhtunkhwa',\n",
    "'Gilgit Baltistan',\n",
    "'Azad Kashmir',\n",
    "'Islamabad']\n",
    "#Provinces of China:\n",
    "\n",
    "provinceChina=['Qinghai',\n",
    "'Sichuan',\n",
    "'Gansu',\n",
    "'Heilongjiang',\n",
    "'Yunnan',\n",
    "'Hunan',\n",
    "'Shaanxi',\n",
    "'Hebei',\n",
    "'Jilin',\n",
    "'Hubei',\n",
    "'Hubei',\n",
    "'Guizhou',\n",
    "'Jiangxi',\n",
    "'Henan',\n",
    "'Shanxi',\n",
    "'Shandong',\n",
    "'Liaoning',\n",
    "'Anhui',\n",
    "'Fujian',\n",
    "'Jiangsu',\n",
    "'Zhejiang',\n",
    "'Taiwan',\n",
    "'Hainan',\n",
    "'Hong Kong',\n",
    "'Tibet',\n",
    "'Beijing']"
   ]
  },
  {
   "cell_type": "code",
   "execution_count": 3,
   "metadata": {},
   "outputs": [
    {
     "data": {
      "text/plain": [
       "'\\ndCountries = {}\\ndEvents = {}\\ndProvincePak = {}\\ndProvinceChina = {}\\ndMonths = {}\\n\\nfor a in countries:\\n    dCountries[a] = hashlib.sha512(a.encode()).hexdigest()[0:10]\\n    \\nfor a in months:\\n    dMonths[a] = hashlib.sha512(a.encode()).hexdigest()[0:10]\\n    \\nfor a in events:\\n    dEvents[a] = hashlib.sha512(a.encode()).hexdigest()[0:10]\\n    \\nfor a in provincePak:\\n    dProvincePak[a] = hashlib.sha512(a.encode()).hexdigest()[0:10]\\n    \\nfor a in provinceChina:\\n    dProvinceChina[a] = hashlib.sha512(a.encode()).hexdigest()[0:10]\\n'"
      ]
     },
     "execution_count": 3,
     "metadata": {},
     "output_type": "execute_result"
    }
   ],
   "source": [
    "'''\n",
    "dCountries = {}\n",
    "dEvents = {}\n",
    "dProvincePak = {}\n",
    "dProvinceChina = {}\n",
    "dMonths = {}\n",
    "\n",
    "for a in countries:\n",
    "    dCountries[a] = hashlib.sha512(a.encode()).hexdigest()[0:10]\n",
    "    \n",
    "for a in months:\n",
    "    dMonths[a] = hashlib.sha512(a.encode()).hexdigest()[0:10]\n",
    "    \n",
    "for a in events:\n",
    "    dEvents[a] = hashlib.sha512(a.encode()).hexdigest()[0:10]\n",
    "    \n",
    "for a in provincePak:\n",
    "    dProvincePak[a] = hashlib.sha512(a.encode()).hexdigest()[0:10]\n",
    "    \n",
    "for a in provinceChina:\n",
    "    dProvinceChina[a] = hashlib.sha512(a.encode()).hexdigest()[0:10]\n",
    "'''"
   ]
  },
  {
   "cell_type": "code",
   "execution_count": 4,
   "metadata": {},
   "outputs": [],
   "source": [
    "#dCountries,dEvents,dProvincePak,dProvinceChina,dMonths"
   ]
  },
  {
   "cell_type": "code",
   "execution_count": 5,
   "metadata": {},
   "outputs": [],
   "source": [
    "#round 2"
   ]
  },
  {
   "cell_type": "code",
   "execution_count": 6,
   "metadata": {},
   "outputs": [],
   "source": [
    "dCountries = {}\n",
    "dEvents = {}\n",
    "dProvincePak = {}\n",
    "dProvinceChina = {}\n",
    "dMonths = {}\n",
    "\n",
    "for a in countries:\n",
    "    dCountries[a] = int(hashlib.sha512(a.encode()).hexdigest()[0:10], 16)\n",
    "    \n",
    "for a in months:\n",
    "    dMonths[a] = int(hashlib.sha512(a.encode()).hexdigest()[0:10], 16)\n",
    "    \n",
    "for a in events:\n",
    "    dEvents[a] = int(hashlib.sha512(a.encode()).hexdigest()[0:10], 16)\n",
    "    \n",
    "for a in provincePak:\n",
    "    dProvincePak[a] = int(hashlib.sha512(a.encode()).hexdigest()[0:10], 16)\n",
    "    \n",
    "for a in provinceChina:\n",
    "    dProvinceChina[a] = int(hashlib.sha512(a.encode()).hexdigest()[0:10], 16)"
   ]
  },
  {
   "cell_type": "code",
   "execution_count": 7,
   "metadata": {},
   "outputs": [
    {
     "data": {
      "text/plain": [
       "({'India': 599540218941,\n",
       "  'China': 922074254021,\n",
       "  'Pakistan': 805650366791,\n",
       "  'Bangladesh': 550924169409,\n",
       "  'Afghanistan': 796255062975},\n",
       " {'Civil unrest': 842955241147,\n",
       "  'Attack': 173815961506,\n",
       "  'Disease outbreak': 782389966709,\n",
       "  'Flood': 504567342880},\n",
       " {'Sindh': 1083570781771,\n",
       "  'Punjab': 115979017587,\n",
       "  'Balochistan': 491896530011,\n",
       "  'Khyber Pakhtunkhwa': 397587297653,\n",
       "  'Gilgit Baltistan': 405405895484,\n",
       "  'Azad Kashmir': 73319429031,\n",
       "  'Islamabad': 523233326767},\n",
       " {'Qinghai': 160138371888,\n",
       "  'Sichuan': 623798892277,\n",
       "  'Gansu': 275418627945,\n",
       "  'Heilongjiang': 874060229648,\n",
       "  'Yunnan': 1081167887854,\n",
       "  'Hunan': 1026562091902,\n",
       "  'Shaanxi': 137576383028,\n",
       "  'Hebei': 770066868597,\n",
       "  'Jilin': 69254807704,\n",
       "  'Hubei': 576287406604,\n",
       "  'Guizhou': 98018115111,\n",
       "  'Jiangxi': 167026942588,\n",
       "  'Henan': 50850142492,\n",
       "  'Shanxi': 813407145993,\n",
       "  'Shandong': 907788872740,\n",
       "  'Liaoning': 719227645152,\n",
       "  'Anhui': 598265670170,\n",
       "  'Fujian': 1096475016718,\n",
       "  'Jiangsu': 913033772429,\n",
       "  'Zhejiang': 592407251093,\n",
       "  'Taiwan': 186549519087,\n",
       "  'Hainan': 1072740311565,\n",
       "  'Hong Kong': 156063852278,\n",
       "  'Tibet': 27828004076,\n",
       "  'Beijing': 963432031780},\n",
       " {'January': 789269779534,\n",
       "  'February': 898528197691,\n",
       "  'March': 341814020434,\n",
       "  'April': 582981880659,\n",
       "  'May': 881714492924,\n",
       "  'June': 842191546849,\n",
       "  'July': 225044240400,\n",
       "  'August': 637860132779,\n",
       "  'September': 327893498858,\n",
       "  'October': 81113368858,\n",
       "  'November': 715105976379,\n",
       "  'December': 321193061305})"
      ]
     },
     "execution_count": 7,
     "metadata": {},
     "output_type": "execute_result"
    }
   ],
   "source": [
    "dCountries,dEvents,dProvincePak,dProvinceChina,dMonths"
   ]
  },
  {
   "cell_type": "code",
   "execution_count": 8,
   "metadata": {},
   "outputs": [],
   "source": [
    "def getEvent(val): \n",
    "    for key, value in dEvents.items(): \n",
    "         if val == value: \n",
    "             return key\n",
    "def getCountry(val): \n",
    "    for key, value in dCountries.items(): \n",
    "         if val == value: \n",
    "             return key\n",
    "def getMonth(val): \n",
    "    for key, value in dMonths.items(): \n",
    "         if val == value: \n",
    "             return key\n",
    "def getProvincePak(val): \n",
    "    for key, value in dProvincePak.items(): \n",
    "         if val == value: \n",
    "             return key"
   ]
  },
  {
   "cell_type": "code",
   "execution_count": 9,
   "metadata": {},
   "outputs": [],
   "source": [
    "#get_key(173815961506)"
   ]
  },
  {
   "cell_type": "code",
   "execution_count": 10,
   "metadata": {},
   "outputs": [],
   "source": [
    "import csv\n",
    "filename = \"ds.csv\"\n",
    "\n"
   ]
  },
  {
   "cell_type": "code",
   "execution_count": 11,
   "metadata": {},
   "outputs": [],
   "source": [
    "fields = []\n",
    "rows = []\n",
    "\n",
    "with open(filename, 'r') as csvfile:\n",
    "    csvreader = csv.reader(csvfile)\n",
    "    \n",
    "    fields = next(csvreader)\n",
    "    \n",
    "    for row in csvreader:\n",
    "        rows.append(row)"
   ]
  },
  {
   "cell_type": "code",
   "execution_count": 12,
   "metadata": {},
   "outputs": [
    {
     "data": {
      "text/plain": [
       "[['India', '2020', 'February', 'Civil unrest'],\n",
       " ['India', '2017', 'August', 'Civil unrest'],\n",
       " ['India', '2013', 'August', 'Civil unrest'],\n",
       " ['India', '2006', 'May', 'Civil unrest'],\n",
       " ['India', '2002', 'February', 'Civil unrest'],\n",
       " ['India', '2003', 'February', 'Civil unrest'],\n",
       " ['India', '2011', 'April', 'Civil unrest'],\n",
       " ['India', '2015', 'June', 'Civil unrest'],\n",
       " ['India', '2014', 'September', 'Civil unrest'],\n",
       " ['India', '2016', 'February', 'Civil unrest'],\n",
       " ['India', '2018', 'August', 'Flood'],\n",
       " ['India', '2017', 'August', 'Flood'],\n",
       " ['India', '2017', 'July', 'Flood'],\n",
       " ['India', '2017', 'July', 'Flood'],\n",
       " ['India', '2017', 'August', 'Flood'],\n",
       " ['India', '2017', 'July', 'Flood'],\n",
       " ['India', '2016', 'July', 'Flood'],\n",
       " ['India', '2015', 'November', 'Flood'],\n",
       " ['India', '2015', 'June', 'Flood'],\n",
       " ['India', '2015', 'August', 'Flood'],\n",
       " ['India', '2014', 'September', 'Flood'],\n",
       " ['India', '2007', 'August', 'Flood'],\n",
       " ['India', '2008', 'August', 'Flood'],\n",
       " ['India', '2019', 'May', 'Attack'],\n",
       " ['India', '2019', 'February', 'Attack'],\n",
       " ['India', '2018', 'March', 'Attack'],\n",
       " ['India', '2018', 'February', 'Attack'],\n",
       " ['India', '2017', 'July', 'Attack'],\n",
       " ['India', '2017', 'April', 'Attack'],\n",
       " ['India', '2016', 'September', 'Attack'],\n",
       " ['India', '2016', 'August', 'Attack'],\n",
       " ['India', '2016', 'January', 'Attack'],\n",
       " ['India', '2015', 'July', 'Attack'],\n",
       " ['India', '2015', 'June', 'Attack'],\n",
       " ['India', '2014', 'December', 'Attack'],\n",
       " ['India', '2014', 'May', 'Attack'],\n",
       " ['India', '2014', 'May', 'Attack'],\n",
       " ['India', '2014', 'April', 'Attack'],\n",
       " ['India', '2014', 'March', 'Attack'],\n",
       " ['India', '2018', 'May', 'Disease outbreak'],\n",
       " ['India', '2002', 'February', 'Disease outbreak'],\n",
       " ['India', '2017', 'May', 'Disease outbreak'],\n",
       " ['India', '2006', 'February', 'Disease outbreak'],\n",
       " ['India', '2006', 'February', 'Disease outbreak'],\n",
       " ['India', '2005', 'July', 'Disease outbreak'],\n",
       " ['India', '2005', 'March', 'Disease outbreak'],\n",
       " ['India', '2003', 'June', 'Disease outbreak'],\n",
       " ['India', '2003', 'April', 'Disease outbreak'],\n",
       " ['India', '2001', 'July', 'Disease outbreak'],\n",
       " ['China', '2019', 'October', 'Civil unrest'],\n",
       " ['China', '2011', 'September', 'Civil unrest'],\n",
       " ['China', '2008', 'March', 'Civil unrest'],\n",
       " ['China', '2009', 'July', 'Civil unrest'],\n",
       " ['China', '2008', 'March', 'Civil unrest'],\n",
       " ['China', '2012', 'June', 'Civil unrest'],\n",
       " ['China', '2011', 'November', 'Civil unrest'],\n",
       " ['China', '2011', 'March', 'Civil unrest'],\n",
       " ['China', '2010', 'January', 'Civil unrest'],\n",
       " ['China', '2008', 'June', 'Civil unrest'],\n",
       " ['China', '2020', 'January', 'Disease outbreak'],\n",
       " ['China', '2018', 'February', 'Disease outbreak'],\n",
       " ['China', '2016', 'January', 'Disease outbreak'],\n",
       " ['China', '2016', 'April', 'Disease outbreak'],\n",
       " ['China', '2016', 'March', 'Disease outbreak'],\n",
       " ['China', '2017', 'January', 'Disease outbreak'],\n",
       " ['China', '2015', 'January', 'Disease outbreak'],\n",
       " ['China', '2015', 'January', 'Disease outbreak'],\n",
       " ['China', '2014', 'January', 'Disease outbreak'],\n",
       " ['China', '2014', 'December', 'Disease outbreak'],\n",
       " ['China', '2019', 'July', 'Flood'],\n",
       " ['China', '2018', 'July', 'Flood'],\n",
       " ['China', '2018', 'June', 'Flood'],\n",
       " ['China', '2017', 'June', 'Flood'],\n",
       " ['China', '2017', 'June', 'Flood'],\n",
       " ['China', '2016', 'July', 'Flood'],\n",
       " ['China', '2015', 'June', 'Flood'],\n",
       " ['China', '2015', 'June', 'Flood'],\n",
       " ['China', '2013', 'July', 'Flood'],\n",
       " ['China', '2013', 'July', 'Flood'],\n",
       " ['China', '2016', 'December', 'Attack'],\n",
       " ['China', '2015', 'June', 'Attack'],\n",
       " ['China', '2014', 'March', 'Attack'],\n",
       " ['China', '2013', 'October', 'Attack'],\n",
       " ['China', '2013', 'April', 'Attack'],\n",
       " ['China', '2011', 'July', 'Attack'],\n",
       " ['China', '2002', 'April', 'Attack'],\n",
       " ['China', '2001', 'March', 'Attack'],\n",
       " ['China', '2007', 'January', 'Attack'],\n",
       " ['China', '2008', 'August', 'Attack']]"
      ]
     },
     "execution_count": 12,
     "metadata": {},
     "output_type": "execute_result"
    }
   ],
   "source": [
    "rows"
   ]
  },
  {
   "cell_type": "code",
   "execution_count": 13,
   "metadata": {},
   "outputs": [],
   "source": [
    "hashRows = []\n",
    "for country, year, month, event in rows:\n",
    "    hashRows.append([ str(dCountries[country]), year, str(dMonths[month]), str(dEvents[event])])"
   ]
  },
  {
   "cell_type": "code",
   "execution_count": 14,
   "metadata": {},
   "outputs": [
    {
     "data": {
      "text/plain": [
       "[['599540218941', '2020', '898528197691', '842955241147'],\n",
       " ['599540218941', '2017', '637860132779', '842955241147'],\n",
       " ['599540218941', '2013', '637860132779', '842955241147'],\n",
       " ['599540218941', '2006', '881714492924', '842955241147'],\n",
       " ['599540218941', '2002', '898528197691', '842955241147'],\n",
       " ['599540218941', '2003', '898528197691', '842955241147'],\n",
       " ['599540218941', '2011', '582981880659', '842955241147'],\n",
       " ['599540218941', '2015', '842191546849', '842955241147'],\n",
       " ['599540218941', '2014', '327893498858', '842955241147'],\n",
       " ['599540218941', '2016', '898528197691', '842955241147'],\n",
       " ['599540218941', '2018', '637860132779', '504567342880'],\n",
       " ['599540218941', '2017', '637860132779', '504567342880'],\n",
       " ['599540218941', '2017', '225044240400', '504567342880'],\n",
       " ['599540218941', '2017', '225044240400', '504567342880'],\n",
       " ['599540218941', '2017', '637860132779', '504567342880'],\n",
       " ['599540218941', '2017', '225044240400', '504567342880'],\n",
       " ['599540218941', '2016', '225044240400', '504567342880'],\n",
       " ['599540218941', '2015', '715105976379', '504567342880'],\n",
       " ['599540218941', '2015', '842191546849', '504567342880'],\n",
       " ['599540218941', '2015', '637860132779', '504567342880'],\n",
       " ['599540218941', '2014', '327893498858', '504567342880'],\n",
       " ['599540218941', '2007', '637860132779', '504567342880'],\n",
       " ['599540218941', '2008', '637860132779', '504567342880'],\n",
       " ['599540218941', '2019', '881714492924', '173815961506'],\n",
       " ['599540218941', '2019', '898528197691', '173815961506'],\n",
       " ['599540218941', '2018', '341814020434', '173815961506'],\n",
       " ['599540218941', '2018', '898528197691', '173815961506'],\n",
       " ['599540218941', '2017', '225044240400', '173815961506'],\n",
       " ['599540218941', '2017', '582981880659', '173815961506'],\n",
       " ['599540218941', '2016', '327893498858', '173815961506'],\n",
       " ['599540218941', '2016', '637860132779', '173815961506'],\n",
       " ['599540218941', '2016', '789269779534', '173815961506'],\n",
       " ['599540218941', '2015', '225044240400', '173815961506'],\n",
       " ['599540218941', '2015', '842191546849', '173815961506'],\n",
       " ['599540218941', '2014', '321193061305', '173815961506'],\n",
       " ['599540218941', '2014', '881714492924', '173815961506'],\n",
       " ['599540218941', '2014', '881714492924', '173815961506'],\n",
       " ['599540218941', '2014', '582981880659', '173815961506'],\n",
       " ['599540218941', '2014', '341814020434', '173815961506'],\n",
       " ['599540218941', '2018', '881714492924', '782389966709'],\n",
       " ['599540218941', '2002', '898528197691', '782389966709'],\n",
       " ['599540218941', '2017', '881714492924', '782389966709'],\n",
       " ['599540218941', '2006', '898528197691', '782389966709'],\n",
       " ['599540218941', '2006', '898528197691', '782389966709'],\n",
       " ['599540218941', '2005', '225044240400', '782389966709'],\n",
       " ['599540218941', '2005', '341814020434', '782389966709'],\n",
       " ['599540218941', '2003', '842191546849', '782389966709'],\n",
       " ['599540218941', '2003', '582981880659', '782389966709'],\n",
       " ['599540218941', '2001', '225044240400', '782389966709'],\n",
       " ['922074254021', '2019', '81113368858', '842955241147'],\n",
       " ['922074254021', '2011', '327893498858', '842955241147'],\n",
       " ['922074254021', '2008', '341814020434', '842955241147'],\n",
       " ['922074254021', '2009', '225044240400', '842955241147'],\n",
       " ['922074254021', '2008', '341814020434', '842955241147'],\n",
       " ['922074254021', '2012', '842191546849', '842955241147'],\n",
       " ['922074254021', '2011', '715105976379', '842955241147'],\n",
       " ['922074254021', '2011', '341814020434', '842955241147'],\n",
       " ['922074254021', '2010', '789269779534', '842955241147'],\n",
       " ['922074254021', '2008', '842191546849', '842955241147'],\n",
       " ['922074254021', '2020', '789269779534', '782389966709'],\n",
       " ['922074254021', '2018', '898528197691', '782389966709'],\n",
       " ['922074254021', '2016', '789269779534', '782389966709'],\n",
       " ['922074254021', '2016', '582981880659', '782389966709'],\n",
       " ['922074254021', '2016', '341814020434', '782389966709'],\n",
       " ['922074254021', '2017', '789269779534', '782389966709'],\n",
       " ['922074254021', '2015', '789269779534', '782389966709'],\n",
       " ['922074254021', '2015', '789269779534', '782389966709'],\n",
       " ['922074254021', '2014', '789269779534', '782389966709'],\n",
       " ['922074254021', '2014', '321193061305', '782389966709'],\n",
       " ['922074254021', '2019', '225044240400', '504567342880'],\n",
       " ['922074254021', '2018', '225044240400', '504567342880'],\n",
       " ['922074254021', '2018', '842191546849', '504567342880'],\n",
       " ['922074254021', '2017', '842191546849', '504567342880'],\n",
       " ['922074254021', '2017', '842191546849', '504567342880'],\n",
       " ['922074254021', '2016', '225044240400', '504567342880'],\n",
       " ['922074254021', '2015', '842191546849', '504567342880'],\n",
       " ['922074254021', '2015', '842191546849', '504567342880'],\n",
       " ['922074254021', '2013', '225044240400', '504567342880'],\n",
       " ['922074254021', '2013', '225044240400', '504567342880'],\n",
       " ['922074254021', '2016', '321193061305', '173815961506'],\n",
       " ['922074254021', '2015', '842191546849', '173815961506'],\n",
       " ['922074254021', '2014', '341814020434', '173815961506'],\n",
       " ['922074254021', '2013', '81113368858', '173815961506'],\n",
       " ['922074254021', '2013', '582981880659', '173815961506'],\n",
       " ['922074254021', '2011', '225044240400', '173815961506'],\n",
       " ['922074254021', '2002', '582981880659', '173815961506'],\n",
       " ['922074254021', '2001', '341814020434', '173815961506'],\n",
       " ['922074254021', '2007', '789269779534', '173815961506'],\n",
       " ['922074254021', '2008', '637860132779', '173815961506']]"
      ]
     },
     "execution_count": 14,
     "metadata": {},
     "output_type": "execute_result"
    }
   ],
   "source": [
    "hashRows"
   ]
  },
  {
   "cell_type": "code",
   "execution_count": 15,
   "metadata": {},
   "outputs": [],
   "source": [
    "filename2 = \"dsHash2.csv\"\n",
    "with open(filename2, 'w') as csvfile2:\n",
    "    csvwriter = csv.writer(csvfile2, delimiter=',', lineterminator='\\r')\n",
    "    csvwriter.writerow(fields)\n",
    "    csvwriter.writerows(hashRows)"
   ]
  },
  {
   "cell_type": "code",
   "execution_count": 16,
   "metadata": {},
   "outputs": [
    {
     "data": {
      "text/plain": [
       "'dsHash2.csv'"
      ]
     },
     "execution_count": 16,
     "metadata": {},
     "output_type": "execute_result"
    }
   ],
   "source": [
    "filename2"
   ]
  },
  {
   "cell_type": "code",
   "execution_count": 17,
   "metadata": {},
   "outputs": [],
   "source": [
    "csvfile.close()\n",
    "csvfile2.close()"
   ]
  },
  {
   "cell_type": "code",
   "execution_count": 18,
   "metadata": {},
   "outputs": [],
   "source": [
    "fields = []\n",
    "rows2 = []\n",
    "filename = \"dsHash2.csv\"\n",
    "with open(filename, 'r', encoding = 'utf-8') as csvfile:\n",
    "    csvreader = csv.reader(csvfile)\n",
    "    \n",
    "    fields = next(csvreader)\n",
    "    \n",
    "    for row in csvreader:\n",
    "        rows2.append(row)"
   ]
  },
  {
   "cell_type": "code",
   "execution_count": 19,
   "metadata": {},
   "outputs": [
    {
     "data": {
      "text/plain": [
       "[['599540218941', '2020', '898528197691', '842955241147'],\n",
       " ['599540218941', '2017', '637860132779', '842955241147'],\n",
       " ['599540218941', '2013', '637860132779', '842955241147'],\n",
       " ['599540218941', '2006', '881714492924', '842955241147'],\n",
       " ['599540218941', '2002', '898528197691', '842955241147'],\n",
       " ['599540218941', '2003', '898528197691', '842955241147'],\n",
       " ['599540218941', '2011', '582981880659', '842955241147'],\n",
       " ['599540218941', '2015', '842191546849', '842955241147'],\n",
       " ['599540218941', '2014', '327893498858', '842955241147'],\n",
       " ['599540218941', '2016', '898528197691', '842955241147'],\n",
       " ['599540218941', '2018', '637860132779', '504567342880'],\n",
       " ['599540218941', '2017', '637860132779', '504567342880'],\n",
       " ['599540218941', '2017', '225044240400', '504567342880'],\n",
       " ['599540218941', '2017', '225044240400', '504567342880'],\n",
       " ['599540218941', '2017', '637860132779', '504567342880'],\n",
       " ['599540218941', '2017', '225044240400', '504567342880'],\n",
       " ['599540218941', '2016', '225044240400', '504567342880'],\n",
       " ['599540218941', '2015', '715105976379', '504567342880'],\n",
       " ['599540218941', '2015', '842191546849', '504567342880'],\n",
       " ['599540218941', '2015', '637860132779', '504567342880'],\n",
       " ['599540218941', '2014', '327893498858', '504567342880'],\n",
       " ['599540218941', '2007', '637860132779', '504567342880'],\n",
       " ['599540218941', '2008', '637860132779', '504567342880'],\n",
       " ['599540218941', '2019', '881714492924', '173815961506'],\n",
       " ['599540218941', '2019', '898528197691', '173815961506'],\n",
       " ['599540218941', '2018', '341814020434', '173815961506'],\n",
       " ['599540218941', '2018', '898528197691', '173815961506'],\n",
       " ['599540218941', '2017', '225044240400', '173815961506'],\n",
       " ['599540218941', '2017', '582981880659', '173815961506'],\n",
       " ['599540218941', '2016', '327893498858', '173815961506'],\n",
       " ['599540218941', '2016', '637860132779', '173815961506'],\n",
       " ['599540218941', '2016', '789269779534', '173815961506'],\n",
       " ['599540218941', '2015', '225044240400', '173815961506'],\n",
       " ['599540218941', '2015', '842191546849', '173815961506'],\n",
       " ['599540218941', '2014', '321193061305', '173815961506'],\n",
       " ['599540218941', '2014', '881714492924', '173815961506'],\n",
       " ['599540218941', '2014', '881714492924', '173815961506'],\n",
       " ['599540218941', '2014', '582981880659', '173815961506'],\n",
       " ['599540218941', '2014', '341814020434', '173815961506'],\n",
       " ['599540218941', '2018', '881714492924', '782389966709'],\n",
       " ['599540218941', '2002', '898528197691', '782389966709'],\n",
       " ['599540218941', '2017', '881714492924', '782389966709'],\n",
       " ['599540218941', '2006', '898528197691', '782389966709'],\n",
       " ['599540218941', '2006', '898528197691', '782389966709'],\n",
       " ['599540218941', '2005', '225044240400', '782389966709'],\n",
       " ['599540218941', '2005', '341814020434', '782389966709'],\n",
       " ['599540218941', '2003', '842191546849', '782389966709'],\n",
       " ['599540218941', '2003', '582981880659', '782389966709'],\n",
       " ['599540218941', '2001', '225044240400', '782389966709'],\n",
       " ['922074254021', '2019', '81113368858', '842955241147'],\n",
       " ['922074254021', '2011', '327893498858', '842955241147'],\n",
       " ['922074254021', '2008', '341814020434', '842955241147'],\n",
       " ['922074254021', '2009', '225044240400', '842955241147'],\n",
       " ['922074254021', '2008', '341814020434', '842955241147'],\n",
       " ['922074254021', '2012', '842191546849', '842955241147'],\n",
       " ['922074254021', '2011', '715105976379', '842955241147'],\n",
       " ['922074254021', '2011', '341814020434', '842955241147'],\n",
       " ['922074254021', '2010', '789269779534', '842955241147'],\n",
       " ['922074254021', '2008', '842191546849', '842955241147'],\n",
       " ['922074254021', '2020', '789269779534', '782389966709'],\n",
       " ['922074254021', '2018', '898528197691', '782389966709'],\n",
       " ['922074254021', '2016', '789269779534', '782389966709'],\n",
       " ['922074254021', '2016', '582981880659', '782389966709'],\n",
       " ['922074254021', '2016', '341814020434', '782389966709'],\n",
       " ['922074254021', '2017', '789269779534', '782389966709'],\n",
       " ['922074254021', '2015', '789269779534', '782389966709'],\n",
       " ['922074254021', '2015', '789269779534', '782389966709'],\n",
       " ['922074254021', '2014', '789269779534', '782389966709'],\n",
       " ['922074254021', '2014', '321193061305', '782389966709'],\n",
       " ['922074254021', '2019', '225044240400', '504567342880'],\n",
       " ['922074254021', '2018', '225044240400', '504567342880'],\n",
       " ['922074254021', '2018', '842191546849', '504567342880'],\n",
       " ['922074254021', '2017', '842191546849', '504567342880'],\n",
       " ['922074254021', '2017', '842191546849', '504567342880'],\n",
       " ['922074254021', '2016', '225044240400', '504567342880'],\n",
       " ['922074254021', '2015', '842191546849', '504567342880'],\n",
       " ['922074254021', '2015', '842191546849', '504567342880'],\n",
       " ['922074254021', '2013', '225044240400', '504567342880'],\n",
       " ['922074254021', '2013', '225044240400', '504567342880'],\n",
       " ['922074254021', '2016', '321193061305', '173815961506'],\n",
       " ['922074254021', '2015', '842191546849', '173815961506'],\n",
       " ['922074254021', '2014', '341814020434', '173815961506'],\n",
       " ['922074254021', '2013', '81113368858', '173815961506'],\n",
       " ['922074254021', '2013', '582981880659', '173815961506'],\n",
       " ['922074254021', '2011', '225044240400', '173815961506'],\n",
       " ['922074254021', '2002', '582981880659', '173815961506'],\n",
       " ['922074254021', '2001', '341814020434', '173815961506'],\n",
       " ['922074254021', '2007', '789269779534', '173815961506'],\n",
       " ['922074254021', '2008', '637860132779', '173815961506']]"
      ]
     },
     "execution_count": 19,
     "metadata": {},
     "output_type": "execute_result"
    }
   ],
   "source": [
    "rows2"
   ]
  },
  {
   "cell_type": "code",
   "execution_count": 20,
   "metadata": {},
   "outputs": [
    {
     "data": {
      "text/plain": [
       "'India'"
      ]
     },
     "execution_count": 20,
     "metadata": {},
     "output_type": "execute_result"
    }
   ],
   "source": [
    "getCountry(599540218941)"
   ]
  },
  {
   "cell_type": "code",
   "execution_count": 21,
   "metadata": {},
   "outputs": [],
   "source": [
    "#Now training the model using training data---------------------------------------------------#"
   ]
  },
  {
   "cell_type": "code",
   "execution_count": 22,
   "metadata": {},
   "outputs": [],
   "source": [
    "#saif\n",
    "import pandas as pd\n",
    "import numpy as np\n",
    "df=pd.read_csv(\"dsHash2.csv\")\n",
    "from sklearn.preprocessing import LabelEncoder\n",
    "from sklearn.model_selection import train_test_split\n",
    "le=LabelEncoder()"
   ]
  },
  {
   "cell_type": "code",
   "execution_count": 23,
   "metadata": {},
   "outputs": [],
   "source": [
    "#df['Country']=le.fit_transform(df['Country'])\n",
    "#df['Month']=le.fit_transform(df['Month'])\n",
    "#df['Event']=le.fit_transform(df['Event'])"
   ]
  },
  {
   "cell_type": "code",
   "execution_count": 24,
   "metadata": {},
   "outputs": [
    {
     "data": {
      "text/html": [
       "<div>\n",
       "<style scoped>\n",
       "    .dataframe tbody tr th:only-of-type {\n",
       "        vertical-align: middle;\n",
       "    }\n",
       "\n",
       "    .dataframe tbody tr th {\n",
       "        vertical-align: top;\n",
       "    }\n",
       "\n",
       "    .dataframe thead th {\n",
       "        text-align: right;\n",
       "    }\n",
       "</style>\n",
       "<table border=\"1\" class=\"dataframe\">\n",
       "  <thead>\n",
       "    <tr style=\"text-align: right;\">\n",
       "      <th></th>\n",
       "      <th>Country</th>\n",
       "      <th>Year</th>\n",
       "      <th>Month</th>\n",
       "      <th>Event</th>\n",
       "    </tr>\n",
       "  </thead>\n",
       "  <tbody>\n",
       "    <tr>\n",
       "      <th>0</th>\n",
       "      <td>599540218941</td>\n",
       "      <td>2020</td>\n",
       "      <td>898528197691</td>\n",
       "      <td>842955241147</td>\n",
       "    </tr>\n",
       "    <tr>\n",
       "      <th>1</th>\n",
       "      <td>599540218941</td>\n",
       "      <td>2017</td>\n",
       "      <td>637860132779</td>\n",
       "      <td>842955241147</td>\n",
       "    </tr>\n",
       "    <tr>\n",
       "      <th>2</th>\n",
       "      <td>599540218941</td>\n",
       "      <td>2013</td>\n",
       "      <td>637860132779</td>\n",
       "      <td>842955241147</td>\n",
       "    </tr>\n",
       "    <tr>\n",
       "      <th>3</th>\n",
       "      <td>599540218941</td>\n",
       "      <td>2006</td>\n",
       "      <td>881714492924</td>\n",
       "      <td>842955241147</td>\n",
       "    </tr>\n",
       "    <tr>\n",
       "      <th>4</th>\n",
       "      <td>599540218941</td>\n",
       "      <td>2002</td>\n",
       "      <td>898528197691</td>\n",
       "      <td>842955241147</td>\n",
       "    </tr>\n",
       "    <tr>\n",
       "      <th>...</th>\n",
       "      <td>...</td>\n",
       "      <td>...</td>\n",
       "      <td>...</td>\n",
       "      <td>...</td>\n",
       "    </tr>\n",
       "    <tr>\n",
       "      <th>84</th>\n",
       "      <td>922074254021</td>\n",
       "      <td>2011</td>\n",
       "      <td>225044240400</td>\n",
       "      <td>173815961506</td>\n",
       "    </tr>\n",
       "    <tr>\n",
       "      <th>85</th>\n",
       "      <td>922074254021</td>\n",
       "      <td>2002</td>\n",
       "      <td>582981880659</td>\n",
       "      <td>173815961506</td>\n",
       "    </tr>\n",
       "    <tr>\n",
       "      <th>86</th>\n",
       "      <td>922074254021</td>\n",
       "      <td>2001</td>\n",
       "      <td>341814020434</td>\n",
       "      <td>173815961506</td>\n",
       "    </tr>\n",
       "    <tr>\n",
       "      <th>87</th>\n",
       "      <td>922074254021</td>\n",
       "      <td>2007</td>\n",
       "      <td>789269779534</td>\n",
       "      <td>173815961506</td>\n",
       "    </tr>\n",
       "    <tr>\n",
       "      <th>88</th>\n",
       "      <td>922074254021</td>\n",
       "      <td>2008</td>\n",
       "      <td>637860132779</td>\n",
       "      <td>173815961506</td>\n",
       "    </tr>\n",
       "  </tbody>\n",
       "</table>\n",
       "<p>89 rows × 4 columns</p>\n",
       "</div>"
      ],
      "text/plain": [
       "         Country  Year         Month         Event\n",
       "0   599540218941  2020  898528197691  842955241147\n",
       "1   599540218941  2017  637860132779  842955241147\n",
       "2   599540218941  2013  637860132779  842955241147\n",
       "3   599540218941  2006  881714492924  842955241147\n",
       "4   599540218941  2002  898528197691  842955241147\n",
       "..           ...   ...           ...           ...\n",
       "84  922074254021  2011  225044240400  173815961506\n",
       "85  922074254021  2002  582981880659  173815961506\n",
       "86  922074254021  2001  341814020434  173815961506\n",
       "87  922074254021  2007  789269779534  173815961506\n",
       "88  922074254021  2008  637860132779  173815961506\n",
       "\n",
       "[89 rows x 4 columns]"
      ]
     },
     "execution_count": 24,
     "metadata": {},
     "output_type": "execute_result"
    }
   ],
   "source": [
    "df"
   ]
  },
  {
   "cell_type": "code",
   "execution_count": 25,
   "metadata": {},
   "outputs": [
    {
     "data": {
      "text/plain": [
       "0     599540218941\n",
       "1     599540218941\n",
       "2     599540218941\n",
       "3     599540218941\n",
       "4     599540218941\n",
       "          ...     \n",
       "84    922074254021\n",
       "85    922074254021\n",
       "86    922074254021\n",
       "87    922074254021\n",
       "88    922074254021\n",
       "Name: Country, Length: 89, dtype: int64"
      ]
     },
     "execution_count": 25,
     "metadata": {},
     "output_type": "execute_result"
    }
   ],
   "source": [
    "#df.Country.astype(int)\n",
    "df.Country"
   ]
  },
  {
   "cell_type": "code",
   "execution_count": 26,
   "metadata": {},
   "outputs": [
    {
     "data": {
      "text/plain": [
       "'\\ndf.Country=le.fit_transform(df.Country)\\ndf.Month=le.fit_transform(df.Month)\\ndf.Event=le.fit_transform(df.Event)\\n'"
      ]
     },
     "execution_count": 26,
     "metadata": {},
     "output_type": "execute_result"
    }
   ],
   "source": [
    "'''\n",
    "df.Country=le.fit_transform(df.Country)\n",
    "df.Month=le.fit_transform(df.Month)\n",
    "df.Event=le.fit_transform(df.Event)\n",
    "'''"
   ]
  },
  {
   "cell_type": "code",
   "execution_count": 27,
   "metadata": {},
   "outputs": [],
   "source": [
    "x=df[['Country','Year','Month']]\n",
    "y=df['Event']"
   ]
  },
  {
   "cell_type": "code",
   "execution_count": 28,
   "metadata": {},
   "outputs": [],
   "source": [
    "x_train, x_test, y_train, y_test = train_test_split(x, y, random_state = 0)\n",
    "from sklearn.tree import DecisionTreeClassifier\n",
    "dtree_model = DecisionTreeClassifier(max_depth = 2).fit(x_train, y_train)\n",
    "dtree_predictions = dtree_model.predict(x_test)"
   ]
  },
  {
   "cell_type": "code",
   "execution_count": 29,
   "metadata": {},
   "outputs": [
    {
     "data": {
      "text/html": [
       "<div>\n",
       "<style scoped>\n",
       "    .dataframe tbody tr th:only-of-type {\n",
       "        vertical-align: middle;\n",
       "    }\n",
       "\n",
       "    .dataframe tbody tr th {\n",
       "        vertical-align: top;\n",
       "    }\n",
       "\n",
       "    .dataframe thead th {\n",
       "        text-align: right;\n",
       "    }\n",
       "</style>\n",
       "<table border=\"1\" class=\"dataframe\">\n",
       "  <thead>\n",
       "    <tr style=\"text-align: right;\">\n",
       "      <th></th>\n",
       "      <th>Country</th>\n",
       "      <th>Year</th>\n",
       "      <th>Month</th>\n",
       "    </tr>\n",
       "  </thead>\n",
       "  <tbody>\n",
       "    <tr>\n",
       "      <th>0</th>\n",
       "      <td>599540218941</td>\n",
       "      <td>2020</td>\n",
       "      <td>898528197691</td>\n",
       "    </tr>\n",
       "    <tr>\n",
       "      <th>1</th>\n",
       "      <td>599540218941</td>\n",
       "      <td>2017</td>\n",
       "      <td>637860132779</td>\n",
       "    </tr>\n",
       "    <tr>\n",
       "      <th>2</th>\n",
       "      <td>599540218941</td>\n",
       "      <td>2013</td>\n",
       "      <td>637860132779</td>\n",
       "    </tr>\n",
       "    <tr>\n",
       "      <th>3</th>\n",
       "      <td>599540218941</td>\n",
       "      <td>2006</td>\n",
       "      <td>881714492924</td>\n",
       "    </tr>\n",
       "    <tr>\n",
       "      <th>4</th>\n",
       "      <td>599540218941</td>\n",
       "      <td>2002</td>\n",
       "      <td>898528197691</td>\n",
       "    </tr>\n",
       "    <tr>\n",
       "      <th>...</th>\n",
       "      <td>...</td>\n",
       "      <td>...</td>\n",
       "      <td>...</td>\n",
       "    </tr>\n",
       "    <tr>\n",
       "      <th>84</th>\n",
       "      <td>922074254021</td>\n",
       "      <td>2011</td>\n",
       "      <td>225044240400</td>\n",
       "    </tr>\n",
       "    <tr>\n",
       "      <th>85</th>\n",
       "      <td>922074254021</td>\n",
       "      <td>2002</td>\n",
       "      <td>582981880659</td>\n",
       "    </tr>\n",
       "    <tr>\n",
       "      <th>86</th>\n",
       "      <td>922074254021</td>\n",
       "      <td>2001</td>\n",
       "      <td>341814020434</td>\n",
       "    </tr>\n",
       "    <tr>\n",
       "      <th>87</th>\n",
       "      <td>922074254021</td>\n",
       "      <td>2007</td>\n",
       "      <td>789269779534</td>\n",
       "    </tr>\n",
       "    <tr>\n",
       "      <th>88</th>\n",
       "      <td>922074254021</td>\n",
       "      <td>2008</td>\n",
       "      <td>637860132779</td>\n",
       "    </tr>\n",
       "  </tbody>\n",
       "</table>\n",
       "<p>89 rows × 3 columns</p>\n",
       "</div>"
      ],
      "text/plain": [
       "         Country  Year         Month\n",
       "0   599540218941  2020  898528197691\n",
       "1   599540218941  2017  637860132779\n",
       "2   599540218941  2013  637860132779\n",
       "3   599540218941  2006  881714492924\n",
       "4   599540218941  2002  898528197691\n",
       "..           ...   ...           ...\n",
       "84  922074254021  2011  225044240400\n",
       "85  922074254021  2002  582981880659\n",
       "86  922074254021  2001  341814020434\n",
       "87  922074254021  2007  789269779534\n",
       "88  922074254021  2008  637860132779\n",
       "\n",
       "[89 rows x 3 columns]"
      ]
     },
     "execution_count": 29,
     "metadata": {},
     "output_type": "execute_result"
    }
   ],
   "source": [
    "x"
   ]
  },
  {
   "cell_type": "code",
   "execution_count": 30,
   "metadata": {},
   "outputs": [
    {
     "data": {
      "text/plain": [
       "0     842955241147\n",
       "1     842955241147\n",
       "2     842955241147\n",
       "3     842955241147\n",
       "4     842955241147\n",
       "          ...     \n",
       "84    173815961506\n",
       "85    173815961506\n",
       "86    173815961506\n",
       "87    173815961506\n",
       "88    173815961506\n",
       "Name: Event, Length: 89, dtype: int64"
      ]
     },
     "execution_count": 30,
     "metadata": {},
     "output_type": "execute_result"
    }
   ],
   "source": [
    "y"
   ]
  },
  {
   "cell_type": "code",
   "execution_count": 39,
   "metadata": {},
   "outputs": [],
   "source": [
    "def predict(country, year, month):\n",
    "    result = dtree_model.predict([ [dCountries[country], 2020, dMonths[month] ] ])\n",
    "    return getEvent(result)"
   ]
  },
  {
   "cell_type": "code",
   "execution_count": 40,
   "metadata": {},
   "outputs": [],
   "source": [
    "a = predict('India', 2020, 'June')"
   ]
  },
  {
   "cell_type": "code",
   "execution_count": 41,
   "metadata": {},
   "outputs": [
    {
     "data": {
      "text/plain": [
       "'Flood'"
      ]
     },
     "execution_count": 41,
     "metadata": {},
     "output_type": "execute_result"
    }
   ],
   "source": [
    "#getEvents(504567342880)\n",
    "a"
   ]
  },
  {
   "cell_type": "code",
   "execution_count": null,
   "metadata": {},
   "outputs": [],
   "source": []
  }
 ],
 "metadata": {
  "kernelspec": {
   "display_name": "Python 3",
   "language": "python",
   "name": "python3"
  },
  "language_info": {
   "codemirror_mode": {
    "name": "ipython",
    "version": 3
   },
   "file_extension": ".py",
   "mimetype": "text/x-python",
   "name": "python",
   "nbconvert_exporter": "python",
   "pygments_lexer": "ipython3",
   "version": "3.7.4"
  }
 },
 "nbformat": 4,
 "nbformat_minor": 2
}
